{
 "cells": [
  {
   "cell_type": "markdown",
   "metadata": {},
   "source": [
    "## Blocket car data\n",
    "\n",
    "### Jonas Lundgren  \n",
    "### Last Updated: Jan 26, 2019\n",
    "\n",
    "---  \n",
    "\n",
    "### Sources \n",
    "\n",
    "https://www.youtube.com/watch?v=XQgXKtPSzUI&t=0s&index=2&list=LLgrRgAlce_d0J02aHPrp4nA\n",
    "\n",
    "University of California, Santa Barbara: PSTAT 135/235, winter quarter 2019\n",
    "\n",
    "### Explanation\n",
    "- Part 1: Webscraping of cars for sale in Skåne, Sweden from private sellers. Scraping is done from Swedish buy and sell site https://www.blocket.se/ using BeautifulSoup.\n",
    "- Part 2: Data preprocessing done using pySpark since I wanted to practice and was not necessary for a data set containing about 2500 rows (scraping done on Jan 26 2019). Visualizations are done using pandas and matplotlib.\n",
    "- Part 3: Continuing with cleaning data and feature engineering. (new scraping done on Feb 02 2019)\n",
    "\n",
    "\n",
    "#### Note: \n",
    "Formating of the webpage where the scraping was done could change if this is read at a later time.\n",
    "\n",
    "---  "
   ]
  },
  {
   "cell_type": "markdown",
   "metadata": {},
   "source": [
    "### Part 1 \n",
    "#### Jan 26, 2019\n",
    "Loading packages used for webscraping."
   ]
  },
  {
   "cell_type": "code",
   "execution_count": 1,
   "metadata": {},
   "outputs": [],
   "source": [
    "import requests\n",
    "from bs4 import BeautifulSoup"
   ]
  },
  {
   "cell_type": "markdown",
   "metadata": {},
   "source": [
    "Url to the site where scraping will be done."
   ]
  },
  {
   "cell_type": "code",
   "execution_count": 2,
   "metadata": {},
   "outputs": [],
   "source": [
    "my_url = 'https://www.blocket.se/malmo/bilar?ca=23_11&cg=1020&st=s&l=0&f=p&w=1'\n",
    "client = requests.get(my_url).text"
   ]
  },
  {
   "cell_type": "code",
   "execution_count": 3,
   "metadata": {},
   "outputs": [],
   "source": [
    "soup = BeautifulSoup(client, \"html.parser\")"
   ]
  },
  {
   "cell_type": "markdown",
   "metadata": {},
   "source": [
    "The path in the html file we are interested in."
   ]
  },
  {
   "cell_type": "code",
   "execution_count": 4,
   "metadata": {},
   "outputs": [],
   "source": [
    "cars = soup.find_all('div', {'id': 'item_list'})[0].find_all('article')"
   ]
  },
  {
   "cell_type": "markdown",
   "metadata": {},
   "source": [
    "Testing to scrape data from the second car on blocket to see if everything is ok"
   ]
  },
  {
   "cell_type": "code",
   "execution_count": 5,
   "metadata": {},
   "outputs": [],
   "source": [
    "info = cars[1]\n",
    "location = info.div.div.text\n",
    "date = info.div.time.get('datetime')\n",
    "title = info.div.find('a', {'class': 'item_link'}).text.replace(',', '|')\n",
    "\n",
    "splited_info = info.div.p.text.split(' | ')\n",
    "\n",
    "fuel = splited_info[0]\n",
    "gear = splited_info[1]\n",
    "dist = splited_info[2]\n",
    "price = info.div.find('p', {'class' : 'list_price font-large'}).text\n",
    "\n"
   ]
  },
  {
   "cell_type": "markdown",
   "metadata": {},
   "source": [
    "Testing to loop over all cars on the first page of cars in the wanted region. If the # signs are removed a file called \"blocket_cars.csv\" is stored containing the cars at the first page."
   ]
  },
  {
   "cell_type": "code",
   "execution_count": 6,
   "metadata": {},
   "outputs": [],
   "source": [
    "filename = \"blocket_cars.csv\"\n",
    "#f = open(filename, \"w\")\n",
    "headers = \"date, title, dist, price, fuel, gear, location\\n\"\n",
    "#f.write(headers)\n",
    "\n",
    "for car in cars:\n",
    "    info = car\n",
    "   \n",
    "    date = info.div.time.get('datetime')\n",
    "    title = info.div.find('a', {'class': 'item_link'}).text.replace(',', '|')\n",
    "\n",
    "    splited_info = info.div.p.text.split(' | ')\n",
    "\n",
    "    fuel = splited_info[0]\n",
    "    gear = splited_info[1]\n",
    "    dist = splited_info[2]\n",
    "    price = info.div.find('p', {'class' : 'list_price font-large'}).text\n",
    "    location = info.div.div.text\n",
    "\n",
    "    #f.write(date + \",\" + title + \",\" + dist + \",\" + price + \",\" + fuel + \",\" + gear + \",\" + location + \"\\n\")\n",
    "    \n",
    "#f.close()"
   ]
  },
  {
   "cell_type": "markdown",
   "metadata": {},
   "source": [
    "Here a file called \"blocket_cars.csv\" is created containing all cars in Skåne not from resellers is stored. The while loop loops over all pages on blocket with the search results we are interested in. At current time it was 52 pages. For every page we loop over the number of cars and store the data we are interseted in: date, title, dist, price, fuel, gear, location. The page number is printed to see how far the scraping process has passed. "
   ]
  },
  {
   "cell_type": "code",
   "execution_count": 7,
   "metadata": {},
   "outputs": [
    {
     "name": "stdout",
     "output_type": "stream",
     "text": [
      "Page number: 1\n",
      "Page number: 2\n",
      "Page number: 3\n",
      "Page number: 4\n",
      "Page number: 5\n",
      "Page number: 6\n",
      "Page number: 7\n",
      "Page number: 8\n",
      "Page number: 9\n",
      "Page number: 10\n",
      "Page number: 11\n",
      "Page number: 12\n",
      "Page number: 13\n",
      "Page number: 14\n",
      "Page number: 15\n",
      "Page number: 16\n",
      "Page number: 17\n",
      "Page number: 18\n",
      "Page number: 19\n",
      "Page number: 20\n",
      "Page number: 21\n",
      "Page number: 22\n",
      "Page number: 23\n",
      "Page number: 24\n",
      "Page number: 25\n",
      "Page number: 26\n",
      "Page number: 27\n",
      "Page number: 28\n",
      "Page number: 29\n",
      "Page number: 30\n",
      "Page number: 31\n",
      "Page number: 32\n",
      "Page number: 33\n",
      "Page number: 34\n",
      "Page number: 35\n",
      "Page number: 36\n",
      "Page number: 37\n",
      "Page number: 38\n",
      "Page number: 39\n",
      "Page number: 40\n",
      "Page number: 41\n",
      "Page number: 42\n",
      "Page number: 43\n",
      "Page number: 44\n",
      "Page number: 45\n",
      "Page number: 46\n",
      "Page number: 47\n",
      "Page number: 48\n",
      "Page number: 49\n",
      "Page number: 50\n",
      "Page number: 51\n",
      "Page number: 52\n",
      "Page number: 53\n"
     ]
    }
   ],
   "source": [
    "filename = \"blocket_cars.csv\"\n",
    "f = open(filename, \"w\")\n",
    "headers = \"date, title, dist, price, fuel, gear, location\\n\"\n",
    "f.write(headers)\n",
    "stop = 'NA'\n",
    "i = 1\n",
    "\n",
    "while(stop != 'Inga träffar i Bilar'):\n",
    "    \n",
    "    my_url = 'https://www.blocket.se/malmo/bilar?ca=23_11&cg=1020&st=s&l=0&f=p&w=1&o=' + str(i)\n",
    "\n",
    "    client = requests.get(my_url).text\n",
    "\n",
    "    soup = BeautifulSoup(client, \"html.parser\")\n",
    "    \n",
    "    try:\n",
    "        stop = soup.find_all('div', {'class': 'ads_not_found col-xs-12'})[0].h3.text\n",
    "    except:\n",
    "        print('Page number: ' + str(i))\n",
    "    \n",
    "    cars = soup.find_all('div', {'id': 'item_list'})[0].find_all('article')\n",
    "    \n",
    "    for car in cars:\n",
    "        info = car\n",
    "        \n",
    "        if(info.div.p.text == ''):\n",
    "            break\n",
    "        \n",
    "        date = info.div.time.get('datetime')\n",
    "        title = info.div.find('a', {'class': 'item_link'}).text.replace(',', '|')\n",
    "\n",
    "        splited_info = info.div.p.text.split(' | ')\n",
    "        \n",
    "        fuel = splited_info[0]\n",
    "        gear = splited_info[1]\n",
    "        dist = splited_info[2]\n",
    "        price = info.div.find('p', {'class' : 'list_price font-large'}).text\n",
    "        location = info.div.div.text\n",
    "\n",
    "        f.write(date + \",\" + title + \",\" + dist + \",\" + price + \",\" + fuel + \",\" + gear + \",\" + location + \"\\n\")\n",
    "    \n",
    "    i = i+1\n",
    "    \n",
    "f.close()"
   ]
  },
  {
   "cell_type": "markdown",
   "metadata": {},
   "source": [
    "### Part 2\n",
    "\n",
    "SparkSession is imported aswell as other spark packages"
   ]
  },
  {
   "cell_type": "code",
   "execution_count": 8,
   "metadata": {},
   "outputs": [],
   "source": [
    "from pyspark.sql import SparkSession\n",
    "import pyspark.sql.types as typ\n",
    "from pyspark.sql.functions import *\n",
    "import pandas\n",
    "\n",
    "spark = SparkSession \\\n",
    "    .builder \\\n",
    "    .master(\"local\") \\\n",
    "    .appName(\"review_and_category_analytics\") \\\n",
    "    .config(\"spark.executor.memory\", '8g') \\\n",
    "    .config('spark.executor.cores', '4') \\\n",
    "    .config('spark.cores.max', '4') \\\n",
    "    .config(\"spark.driver.memory\",'8g') \\\n",
    "    .getOrCreate()\n",
    "\n",
    "sc = spark.sparkContext"
   ]
  },
  {
   "cell_type": "markdown",
   "metadata": {},
   "source": [
    "The data is read into a data frame called df."
   ]
  },
  {
   "cell_type": "code",
   "execution_count": 56,
   "metadata": {},
   "outputs": [],
   "source": [
    "df = spark.read.format(\"csv\")\\\n",
    "    .option(\"header\", \"true\")\\\n",
    "    .option(\"ignoreLeadingWhiteSpace\",'true')\\\n",
    "    .load(\"blocket_cars.csv\")"
   ]
  },
  {
   "cell_type": "markdown",
   "metadata": {},
   "source": [
    "The data frame df is saved."
   ]
  },
  {
   "cell_type": "code",
   "execution_count": 10,
   "metadata": {},
   "outputs": [
    {
     "data": {
      "text/plain": [
       "DataFrame[date: string, title: string, dist: string, price: string, fuel: string, gear: string, location: string]"
      ]
     },
     "execution_count": 10,
     "metadata": {},
     "output_type": "execute_result"
    }
   ],
   "source": [
    "df.cache()"
   ]
  },
  {
   "cell_type": "markdown",
   "metadata": {},
   "source": [
    "First 5 rows are displayed"
   ]
  },
  {
   "cell_type": "code",
   "execution_count": 58,
   "metadata": {},
   "outputs": [
    {
     "name": "stdout",
     "output_type": "stream",
     "text": [
      "+-------------------+--------------------+-------------------+----------+-------------------+-------+--------------+\n",
      "|               date|               title|               dist|     price|               fuel|   gear|      location|\n",
      "+-------------------+--------------------+-------------------+----------+-------------------+-------+--------------+\n",
      "|2019-02-09 23:16:47|VW Jetta 1|6 mult...|  3 500 - 3 999 mil| 78 000 kr|Miljöbränsle/Hybrid|Manuell|Centralt Söder|\n",
      "|2019-02-09 23:16:26|Volkswagen Passat...|  8 500 - 8 999 mil|194 995 kr|             Diesel|Automat|         Öster|\n",
      "|2019-02-09 23:09:14|Toyota Avensis Ve...|19 500 - 19 999 mil| 34 900 kr|             Bensin|Manuell| Centralt Norr|\n",
      "|2019-02-09 23:06:59|       Volvo 340 -85|15 000 - 15 499 mil|  1 800 kr|             Bensin|Manuell|         Hörby|\n",
      "|2019-02-09 23:06:55|Peugeot Expert 1....|18 500 - 18 999 mil| 41 000 kr|             Diesel|Manuell| Centralt Norr|\n",
      "+-------------------+--------------------+-------------------+----------+-------------------+-------+--------------+\n",
      "only showing top 5 rows\n",
      "\n"
     ]
    }
   ],
   "source": [
    "df.show(5)"
   ]
  },
  {
   "cell_type": "code",
   "execution_count": 59,
   "metadata": {},
   "outputs": [
    {
     "data": {
      "text/plain": [
       "['date', 'title', 'dist', 'price', 'fuel', 'gear', 'location']"
      ]
     },
     "execution_count": 59,
     "metadata": {},
     "output_type": "execute_result"
    }
   ],
   "source": [
    "df.columns"
   ]
  },
  {
   "cell_type": "code",
   "execution_count": 60,
   "metadata": {},
   "outputs": [
    {
     "name": "stdout",
     "output_type": "stream",
     "text": [
      "root\n",
      " |-- date: string (nullable = true)\n",
      " |-- title: string (nullable = true)\n",
      " |-- dist: string (nullable = true)\n",
      " |-- price: string (nullable = true)\n",
      " |-- fuel: string (nullable = true)\n",
      " |-- gear: string (nullable = true)\n",
      " |-- location: string (nullable = true)\n",
      "\n"
     ]
    }
   ],
   "source": [
    "df.printSchema()"
   ]
  },
  {
   "cell_type": "markdown",
   "metadata": {},
   "source": [
    "Lower casing all caps in the the title."
   ]
  },
  {
   "cell_type": "code",
   "execution_count": 61,
   "metadata": {},
   "outputs": [],
   "source": [
    "df = df.withColumn('title', lower(df.title))"
   ]
  },
  {
   "cell_type": "markdown",
   "metadata": {},
   "source": [
    "Removing the currency sign kr and the space in the price."
   ]
  },
  {
   "cell_type": "code",
   "execution_count": 62,
   "metadata": {},
   "outputs": [],
   "source": [
    "df = df\\\n",
    "        .withColumn('price', regexp_replace('price', ' kr', ''))\\\n",
    "        .withColumn('price', regexp_replace('price', ' ', ''))"
   ]
  },
  {
   "cell_type": "markdown",
   "metadata": {},
   "source": [
    "Convering the price to int."
   ]
  },
  {
   "cell_type": "code",
   "execution_count": 63,
   "metadata": {},
   "outputs": [],
   "source": [
    "df = df.withColumn('price', df['price'].cast(\"int\"))"
   ]
  },
  {
   "cell_type": "markdown",
   "metadata": {},
   "source": [
    "Checking the results"
   ]
  },
  {
   "cell_type": "code",
   "execution_count": 64,
   "metadata": {},
   "outputs": [
    {
     "name": "stdout",
     "output_type": "stream",
     "text": [
      "+-------------------+--------------------+-------------------+------+-------------------+-------+--------------+\n",
      "|               date|               title|               dist| price|               fuel|   gear|      location|\n",
      "+-------------------+--------------------+-------------------+------+-------------------+-------+--------------+\n",
      "|2019-02-09 23:16:47|vw jetta 1|6 mult...|  3 500 - 3 999 mil| 78000|Miljöbränsle/Hybrid|Manuell|Centralt Söder|\n",
      "|2019-02-09 23:16:26|volkswagen passat...|  8 500 - 8 999 mil|194995|             Diesel|Automat|         Öster|\n",
      "|2019-02-09 23:09:14|toyota avensis ve...|19 500 - 19 999 mil| 34900|             Bensin|Manuell| Centralt Norr|\n",
      "|2019-02-09 23:06:59|       volvo 340 -85|15 000 - 15 499 mil|  1800|             Bensin|Manuell|         Hörby|\n",
      "|2019-02-09 23:06:55|peugeot expert 1....|18 500 - 18 999 mil| 41000|             Diesel|Manuell| Centralt Norr|\n",
      "+-------------------+--------------------+-------------------+------+-------------------+-------+--------------+\n",
      "only showing top 5 rows\n",
      "\n"
     ]
    }
   ],
   "source": [
    "df.show(5)"
   ]
  },
  {
   "cell_type": "markdown",
   "metadata": {},
   "source": [
    "Removing mil from the distance the car has traveled."
   ]
  },
  {
   "cell_type": "code",
   "execution_count": 65,
   "metadata": {},
   "outputs": [],
   "source": [
    "df = df.withColumn('dist', regexp_replace('dist', ' mil', ''))"
   ]
  },
  {
   "cell_type": "markdown",
   "metadata": {},
   "source": [
    "Creating a split in the distance the car has traveled."
   ]
  },
  {
   "cell_type": "code",
   "execution_count": 66,
   "metadata": {},
   "outputs": [],
   "source": [
    "split_col = split(df['dist'], ' - ')"
   ]
  },
  {
   "cell_type": "markdown",
   "metadata": {},
   "source": [
    "Creating 2 columns with distance range."
   ]
  },
  {
   "cell_type": "code",
   "execution_count": 67,
   "metadata": {},
   "outputs": [],
   "source": [
    "df = df.withColumn('from', split_col.getItem(0))\n",
    "df = df.withColumn('to', split_col.getItem(1))"
   ]
  },
  {
   "cell_type": "markdown",
   "metadata": {},
   "source": [
    "Converingt the distance to ints."
   ]
  },
  {
   "cell_type": "code",
   "execution_count": 68,
   "metadata": {},
   "outputs": [],
   "source": [
    "df = df.withColumn('from', regexp_replace('from', ' ', ''))\n",
    "df = df.withColumn('from', df['from'].cast(\"int\"))\n",
    "\n",
    "df = df.withColumn('to', regexp_replace('to', ' ', ''))\n",
    "df = df.withColumn('to', df['to'].cast(\"int\"))"
   ]
  },
  {
   "cell_type": "code",
   "execution_count": 69,
   "metadata": {},
   "outputs": [
    {
     "name": "stdout",
     "output_type": "stream",
     "text": [
      "+-------------------+--------------------+---------------+------+-------------------+-------+--------------+-----+-----+\n",
      "|               date|               title|           dist| price|               fuel|   gear|      location| from|   to|\n",
      "+-------------------+--------------------+---------------+------+-------------------+-------+--------------+-----+-----+\n",
      "|2019-02-09 23:16:47|vw jetta 1|6 mult...|  3 500 - 3 999| 78000|Miljöbränsle/Hybrid|Manuell|Centralt Söder| 3500| 3999|\n",
      "|2019-02-09 23:16:26|volkswagen passat...|  8 500 - 8 999|194995|             Diesel|Automat|         Öster| 8500| 8999|\n",
      "|2019-02-09 23:09:14|toyota avensis ve...|19 500 - 19 999| 34900|             Bensin|Manuell| Centralt Norr|19500|19999|\n",
      "|2019-02-09 23:06:59|       volvo 340 -85|15 000 - 15 499|  1800|             Bensin|Manuell|         Hörby|15000|15499|\n",
      "|2019-02-09 23:06:55|peugeot expert 1....|18 500 - 18 999| 41000|             Diesel|Manuell| Centralt Norr|18500|18999|\n",
      "+-------------------+--------------------+---------------+------+-------------------+-------+--------------+-----+-----+\n",
      "only showing top 5 rows\n",
      "\n"
     ]
    }
   ],
   "source": [
    "df.show(5)"
   ]
  },
  {
   "cell_type": "markdown",
   "metadata": {},
   "source": [
    "Splitting the title to get the brand and model of car. The split is done in a sloppy way and there are several cars where the title was not on form: brand model ... This problem is ignored for now."
   ]
  },
  {
   "cell_type": "code",
   "execution_count": 70,
   "metadata": {},
   "outputs": [],
   "source": [
    "split_col = split(df['title'], ' ')"
   ]
  },
  {
   "cell_type": "code",
   "execution_count": 71,
   "metadata": {},
   "outputs": [],
   "source": [
    "df = df.withColumn('brand', split_col.getItem(0))\n",
    "df = df.withColumn('model', split_col.getItem(1))"
   ]
  },
  {
   "cell_type": "code",
   "execution_count": 72,
   "metadata": {},
   "outputs": [
    {
     "name": "stdout",
     "output_type": "stream",
     "text": [
      "+-------------------+--------------------+---------------+------+-------------------+-------+--------------+-----+-----+----------+-------+\n",
      "|               date|               title|           dist| price|               fuel|   gear|      location| from|   to|     brand|  model|\n",
      "+-------------------+--------------------+---------------+------+-------------------+-------+--------------+-----+-----+----------+-------+\n",
      "|2019-02-09 23:16:47|vw jetta 1|6 mult...|  3 500 - 3 999| 78000|Miljöbränsle/Hybrid|Manuell|Centralt Söder| 3500| 3999|        vw|  jetta|\n",
      "|2019-02-09 23:16:26|volkswagen passat...|  8 500 - 8 999|194995|             Diesel|Automat|         Öster| 8500| 8999|volkswagen| passat|\n",
      "|2019-02-09 23:09:14|toyota avensis ve...|19 500 - 19 999| 34900|             Bensin|Manuell| Centralt Norr|19500|19999|    toyota|avensis|\n",
      "|2019-02-09 23:06:59|       volvo 340 -85|15 000 - 15 499|  1800|             Bensin|Manuell|         Hörby|15000|15499|     volvo|    340|\n",
      "|2019-02-09 23:06:55|peugeot expert 1....|18 500 - 18 999| 41000|             Diesel|Manuell| Centralt Norr|18500|18999|   peugeot| expert|\n",
      "+-------------------+--------------------+---------------+------+-------------------+-------+--------------+-----+-----+----------+-------+\n",
      "only showing top 5 rows\n",
      "\n"
     ]
    }
   ],
   "source": [
    "df.show(5)"
   ]
  },
  {
   "cell_type": "markdown",
   "metadata": {},
   "source": [
    "A new data frame called volvo is created with only the cars of the brand Volvo."
   ]
  },
  {
   "cell_type": "code",
   "execution_count": 73,
   "metadata": {},
   "outputs": [
    {
     "name": "stdout",
     "output_type": "stream",
     "text": [
      "+-------------------+--------------------+---------------+------+------+-------+--------------+-----+-----+-----+-----+\n",
      "|               date|               title|           dist| price|  fuel|   gear|      location| from|   to|brand|model|\n",
      "+-------------------+--------------------+---------------+------+------+-------+--------------+-----+-----+-----+-----+\n",
      "|2019-02-09 23:06:59|       volvo 340 -85|15 000 - 15 499|  1800|Bensin|Manuell|         Hörby|15000|15499|volvo|  340|\n",
      "|2019-02-09 21:54:53|   volvo 945 ftt -92|40 000 - 44 999|  9000|Bensin|Manuell|    Hässleholm|40000|44999|volvo|  945|\n",
      "|2019-02-09 21:48:01|       volvo s60 -01|19 500 - 19 999| 21000|Bensin|Manuell|    Simrishamn|19500|19999|volvo|  s60|\n",
      "|2019-02-09 21:27:59|volvo 745 se nybe...|28 000 - 28 499|  9900|Bensin|Manuell|      Vellinge|28000|28499|volvo|  745|\n",
      "|2019-02-09 20:41:36|volvo v70| samma ...|35 000 - 39 999|  7000|Bensin|Manuell|      Vellinge|35000|39999|volvo| v70||\n",
      "|2019-02-09 20:19:22|volvo xc70 d5 aut...|30 000 - 34 999| 70000|Diesel|Automat|  Kristianstad|30000|34999|volvo| xc70|\n",
      "|2019-02-09 19:59:32|      volvo xc70 -09|25 500 - 25 999| 75000|Diesel|Automat|          Lund|25500|25999|volvo| xc70|\n",
      "|2019-02-09 19:24:22|  volvo v40 2.0t -00|18 000 - 18 499|  5000|Bensin|Manuell|Centralt Söder|18000|18499|volvo|  v40|\n",
      "|2019-02-09 19:11:45|volvo v60 d5 busi...|15 500 - 15 999|139000|Diesel|Manuell|Centralt Söder|15500|15999|volvo|  v60|\n",
      "|2019-02-09 18:53:41|volvo s80 2|4 140...|29 000 - 29 499| 11000|Bensin|Manuell|         Öster|29000|29499|volvo|  s80|\n",
      "+-------------------+--------------------+---------------+------+------+-------+--------------+-----+-----+-----+-----+\n",
      "only showing top 10 rows\n",
      "\n"
     ]
    }
   ],
   "source": [
    "volvo = df.filter(df.brand == 'volvo')\n",
    "volvo.show(10)"
   ]
  },
  {
   "cell_type": "markdown",
   "metadata": {},
   "source": [
    "The volvo data frame is converted into a pandas data frame."
   ]
  },
  {
   "cell_type": "code",
   "execution_count": 74,
   "metadata": {},
   "outputs": [],
   "source": [
    "volvo_pandas = volvo.toPandas()"
   ]
  },
  {
   "cell_type": "markdown",
   "metadata": {},
   "source": [
    "A new column is added with the name model_num where each model is asigned a number used for coloring of plot."
   ]
  },
  {
   "cell_type": "code",
   "execution_count": 75,
   "metadata": {},
   "outputs": [],
   "source": [
    "volvo_pandas['model_num'] = pandas.factorize(volvo_pandas['model'])[0]"
   ]
  },
  {
   "cell_type": "code",
   "execution_count": 76,
   "metadata": {},
   "outputs": [
    {
     "data": {
      "text/html": [
       "<div>\n",
       "<style scoped>\n",
       "    .dataframe tbody tr th:only-of-type {\n",
       "        vertical-align: middle;\n",
       "    }\n",
       "\n",
       "    .dataframe tbody tr th {\n",
       "        vertical-align: top;\n",
       "    }\n",
       "\n",
       "    .dataframe thead th {\n",
       "        text-align: right;\n",
       "    }\n",
       "</style>\n",
       "<table border=\"1\" class=\"dataframe\">\n",
       "  <thead>\n",
       "    <tr style=\"text-align: right;\">\n",
       "      <th></th>\n",
       "      <th>date</th>\n",
       "      <th>title</th>\n",
       "      <th>dist</th>\n",
       "      <th>price</th>\n",
       "      <th>fuel</th>\n",
       "      <th>gear</th>\n",
       "      <th>location</th>\n",
       "      <th>from</th>\n",
       "      <th>to</th>\n",
       "      <th>brand</th>\n",
       "      <th>model</th>\n",
       "      <th>model_num</th>\n",
       "    </tr>\n",
       "  </thead>\n",
       "  <tbody>\n",
       "    <tr>\n",
       "      <th>0</th>\n",
       "      <td>2019-02-09 23:06:59</td>\n",
       "      <td>volvo 340 -85</td>\n",
       "      <td>15 000 - 15 499</td>\n",
       "      <td>1800.0</td>\n",
       "      <td>Bensin</td>\n",
       "      <td>Manuell</td>\n",
       "      <td>Hörby</td>\n",
       "      <td>15000.0</td>\n",
       "      <td>15499.0</td>\n",
       "      <td>volvo</td>\n",
       "      <td>340</td>\n",
       "      <td>0</td>\n",
       "    </tr>\n",
       "    <tr>\n",
       "      <th>1</th>\n",
       "      <td>2019-02-09 21:54:53</td>\n",
       "      <td>volvo 945 ftt -92</td>\n",
       "      <td>40 000 - 44 999</td>\n",
       "      <td>9000.0</td>\n",
       "      <td>Bensin</td>\n",
       "      <td>Manuell</td>\n",
       "      <td>Hässleholm</td>\n",
       "      <td>40000.0</td>\n",
       "      <td>44999.0</td>\n",
       "      <td>volvo</td>\n",
       "      <td>945</td>\n",
       "      <td>1</td>\n",
       "    </tr>\n",
       "    <tr>\n",
       "      <th>2</th>\n",
       "      <td>2019-02-09 21:48:01</td>\n",
       "      <td>volvo s60 -01</td>\n",
       "      <td>19 500 - 19 999</td>\n",
       "      <td>21000.0</td>\n",
       "      <td>Bensin</td>\n",
       "      <td>Manuell</td>\n",
       "      <td>Simrishamn</td>\n",
       "      <td>19500.0</td>\n",
       "      <td>19999.0</td>\n",
       "      <td>volvo</td>\n",
       "      <td>s60</td>\n",
       "      <td>2</td>\n",
       "    </tr>\n",
       "    <tr>\n",
       "      <th>3</th>\n",
       "      <td>2019-02-09 21:27:59</td>\n",
       "      <td>volvo 745 se nybesiktigad -92</td>\n",
       "      <td>28 000 - 28 499</td>\n",
       "      <td>9900.0</td>\n",
       "      <td>Bensin</td>\n",
       "      <td>Manuell</td>\n",
       "      <td>Vellinge</td>\n",
       "      <td>28000.0</td>\n",
       "      <td>28499.0</td>\n",
       "      <td>volvo</td>\n",
       "      <td>745</td>\n",
       "      <td>3</td>\n",
       "    </tr>\n",
       "    <tr>\n",
       "      <th>4</th>\n",
       "      <td>2019-02-09 20:41:36</td>\n",
       "      <td>volvo v70| samma ägare sedan 2001 -99</td>\n",
       "      <td>35 000 - 39 999</td>\n",
       "      <td>7000.0</td>\n",
       "      <td>Bensin</td>\n",
       "      <td>Manuell</td>\n",
       "      <td>Vellinge</td>\n",
       "      <td>35000.0</td>\n",
       "      <td>39999.0</td>\n",
       "      <td>volvo</td>\n",
       "      <td>v70|</td>\n",
       "      <td>4</td>\n",
       "    </tr>\n",
       "  </tbody>\n",
       "</table>\n",
       "</div>"
      ],
      "text/plain": [
       "                  date                                  title  \\\n",
       "0  2019-02-09 23:06:59                          volvo 340 -85   \n",
       "1  2019-02-09 21:54:53                      volvo 945 ftt -92   \n",
       "2  2019-02-09 21:48:01                          volvo s60 -01   \n",
       "3  2019-02-09 21:27:59          volvo 745 se nybesiktigad -92   \n",
       "4  2019-02-09 20:41:36  volvo v70| samma ägare sedan 2001 -99   \n",
       "\n",
       "              dist    price    fuel     gear    location     from       to  \\\n",
       "0  15 000 - 15 499   1800.0  Bensin  Manuell       Hörby  15000.0  15499.0   \n",
       "1  40 000 - 44 999   9000.0  Bensin  Manuell  Hässleholm  40000.0  44999.0   \n",
       "2  19 500 - 19 999  21000.0  Bensin  Manuell  Simrishamn  19500.0  19999.0   \n",
       "3  28 000 - 28 499   9900.0  Bensin  Manuell    Vellinge  28000.0  28499.0   \n",
       "4  35 000 - 39 999   7000.0  Bensin  Manuell    Vellinge  35000.0  39999.0   \n",
       "\n",
       "   brand model  model_num  \n",
       "0  volvo   340          0  \n",
       "1  volvo   945          1  \n",
       "2  volvo   s60          2  \n",
       "3  volvo   745          3  \n",
       "4  volvo  v70|          4  "
      ]
     },
     "execution_count": 76,
     "metadata": {},
     "output_type": "execute_result"
    }
   ],
   "source": [
    "volvo_pandas.head(5)"
   ]
  },
  {
   "cell_type": "markdown",
   "metadata": {},
   "source": [
    "Librarys for polting is imported."
   ]
  },
  {
   "cell_type": "code",
   "execution_count": 77,
   "metadata": {},
   "outputs": [],
   "source": [
    "import matplotlib.pyplot as plt\n",
    "import numpy as np\n",
    "from numpy.polynomial.polynomial import polyfit"
   ]
  },
  {
   "cell_type": "markdown",
   "metadata": {},
   "source": [
    "A plot of all Volvo cars in the data set are displayed colored based on brand."
   ]
  },
  {
   "cell_type": "code",
   "execution_count": 78,
   "metadata": {},
   "outputs": [
    {
     "data": {
      "image/png": "[encoded data removed]",
      "text/plain": [
       "<Figure size 432x288 with 1 Axes>"
      ]
     },
     "metadata": {
      "needs_background": "light"
     },
     "output_type": "display_data"
    }
   ],
   "source": [
    "fig, ax = plt.subplots()\n",
    "scatter = ax.scatter(x = 'from', y = 'price', c = 'model_num', data = volvo_pandas, cmap = 'viridis')\n",
    "plt.xlabel('Antal mil')\n",
    "plt.ylabel('Pris sek')\n",
    "plt.title('Alla privatsålda Volvo på blocket 26/1/19')\n",
    "plt.show()"
   ]
  },
  {
   "cell_type": "markdown",
   "metadata": {},
   "source": [
    "A data frame subset containing only the model v70 is stored as v70."
   ]
  },
  {
   "cell_type": "code",
   "execution_count": 79,
   "metadata": {},
   "outputs": [],
   "source": [
    "v70 = volvo_pandas[volvo_pandas.model == 'v70']"
   ]
  },
  {
   "cell_type": "markdown",
   "metadata": {},
   "source": [
    "Removing cars without price and the distance traveled from the data set."
   ]
  },
  {
   "cell_type": "code",
   "execution_count": 80,
   "metadata": {},
   "outputs": [],
   "source": [
    "v70 = v70[v70['from'].notnull()]\n",
    "v70 = v70[v70['price'].notnull()]"
   ]
  },
  {
   "cell_type": "markdown",
   "metadata": {},
   "source": [
    "A regression line is derived."
   ]
  },
  {
   "cell_type": "code",
   "execution_count": 81,
   "metadata": {},
   "outputs": [],
   "source": [
    "b, m = polyfit(v70['from'], v70['price'], 1)"
   ]
  },
  {
   "cell_type": "markdown",
   "metadata": {},
   "source": [
    "A plot of all Volvo v70 cars in the data set are displayed with a regression "
   ]
  },
  {
   "cell_type": "code",
   "execution_count": 35,
   "metadata": {},
   "outputs": [
    {
     "data": {
      "image/png": "[encoded data removed]",
      "text/plain": [
       "<Figure size 432x288 with 1 Axes>"
      ]
     },
     "metadata": {
      "needs_background": "light"
     },
     "output_type": "display_data"
    }
   ],
   "source": [
    "fig, ax = plt.subplots()\n",
    "plt.scatter = ax.scatter(x = 'from', y = 'price', data = v70)\n",
    "plt.plot(v70['from'], b + m * v70['from'], '-', c = 'r')\n",
    "plt.xlabel('Antal mil')\n",
    "plt.ylabel('Pris sek')\n",
    "plt.title('Alla privatsålda Volvo V70 på blocket 26/1/19')\n",
    "plt.show()"
   ]
  },
  {
   "cell_type": "markdown",
   "metadata": {},
   "source": [
    "### Part 3\n",
    "#### Feb 2, 2019\n",
    "\n",
    "We want to keep clean the data and make some feature engineering. We want to make a regression model to predict prices based on the scraped data. And when new data is scraped we can find the (according to the model) most undervalued cars. One problem is that the best priced cars will get bought first so our scraped training data is consisting of cars that has been for a sale for a while and might not be priced as well as the ones that imedately gets sold. The model will probably therefore favor cars that recently has been added. To go around this problem scraping should continously be done so that the model could be built on all cars posted on Blocket and not on a sample where the majority of the cars have been for sale a long time."
   ]
  },
  {
   "cell_type": "code",
   "execution_count": 39,
   "metadata": {},
   "outputs": [],
   "source": [
    "import seaborn as sns"
   ]
  },
  {
   "cell_type": "markdown",
   "metadata": {},
   "source": [
    "Tyring out a nice looking plot with seaborn."
   ]
  },
  {
   "cell_type": "code",
   "execution_count": 41,
   "metadata": {},
   "outputs": [
    {
     "data": {
      "image/png": "[encoded data removed]",
      "text/plain": [
       "<Figure size 360x360 with 1 Axes>"
      ]
     },
     "metadata": {
      "needs_background": "light"
     },
     "output_type": "display_data"
    }
   ],
   "source": [
    "sns.lmplot(x = 'from', y = 'price', data = v70)\n",
    "plt.show()"
   ]
  },
  {
   "cell_type": "markdown",
   "metadata": {},
   "source": [
    "We will create a new feature called `time_since_listing` equal to the current time - `date`."
   ]
  },
  {
   "cell_type": "code",
   "execution_count": 85,
   "metadata": {},
   "outputs": [
    {
     "data": {
      "text/plain": [
       "'2019-02-10 02:19:23'"
      ]
     },
     "execution_count": 85,
     "metadata": {},
     "output_type": "execute_result"
    }
   ],
   "source": [
    "from time import gmtime, strftime\n",
    "current_time = strftime(\"%Y-%m-%d %H:%M:%S\", gmtime())\n",
    "current_time"
   ]
  },
  {
   "cell_type": "markdown",
   "metadata": {},
   "source": [
    "Make sure the dates are on same form."
   ]
  },
  {
   "cell_type": "code",
   "execution_count": 89,
   "metadata": {},
   "outputs": [
    {
     "data": {
      "text/plain": [
       "'2019-02-09 23:16:47'"
      ]
     },
     "execution_count": 89,
     "metadata": {},
     "output_type": "execute_result"
    }
   ],
   "source": [
    "df[[\"date\"]].collect()[0][0]"
   ]
  },
  {
   "cell_type": "markdown",
   "metadata": {},
   "source": [
    "Add the current time as a constant column to the data farme."
   ]
  },
  {
   "cell_type": "code",
   "execution_count": 102,
   "metadata": {},
   "outputs": [
    {
     "name": "stdout",
     "output_type": "stream",
     "text": [
      "+-------------------+\n",
      "|       current_time|\n",
      "+-------------------+\n",
      "|2019-02-10 02:19:23|\n",
      "|2019-02-10 02:19:23|\n",
      "+-------------------+\n",
      "only showing top 2 rows\n",
      "\n"
     ]
    }
   ],
   "source": [
    "import pyspark.sql.functions as F\n",
    "df = df.withColumn(\"current_time\", F.lit(current_time))\n",
    "df[[\"current_time\"]].show(2)"
   ]
  },
  {
   "cell_type": "markdown",
   "metadata": {},
   "source": [
    "Subtracting the listing time from the current time and stores is in a colum `time_since_listing` and drop the constant colum `current_time` from the data frame."
   ]
  },
  {
   "cell_type": "code",
   "execution_count": 108,
   "metadata": {},
   "outputs": [
    {
     "name": "stdout",
     "output_type": "stream",
     "text": [
      "+------------------+\n",
      "|time_since_listing|\n",
      "+------------------+\n",
      "|             10956|\n",
      "|             10977|\n",
      "|             11409|\n",
      "|             11544|\n",
      "|             11548|\n",
      "+------------------+\n",
      "only showing top 5 rows\n",
      "\n"
     ]
    }
   ],
   "source": [
    "timeFmt = \"yyyy-MM-dd HH:mm:ss\"\n",
    "timeDiff = (F.unix_timestamp('current_time', format=timeFmt) - F.unix_timestamp('date', format=timeFmt))\n",
    "\n",
    "df = df.withColumn(\"time_since_listing\", timeDiff)\n",
    "df = df.drop(\"current_time\")\n",
    "df[[\"time_since_listing\"]].show(5)"
   ]
  },
  {
   "cell_type": "markdown",
   "metadata": {},
   "source": [
    "We also want to check out the distribution of days on which cars get upploaded. We create a column `Day_of_week`."
   ]
  },
  {
   "cell_type": "code",
   "execution_count": 111,
   "metadata": {},
   "outputs": [
    {
     "name": "stdout",
     "output_type": "stream",
     "text": [
      "+-----------+\n",
      "|Day_of_week|\n",
      "+-----------+\n",
      "|          7|\n",
      "|          7|\n",
      "|          7|\n",
      "|          7|\n",
      "|          7|\n",
      "+-----------+\n",
      "only showing top 5 rows\n",
      "\n"
     ]
    }
   ],
   "source": [
    "df = df.withColumn(\"Day_of_week\", F.dayofweek(df[\"date\"]))\n",
    "df[[\"Day_of_week\"]].show(5)"
   ]
  },
  {
   "cell_type": "markdown",
   "metadata": {},
   "source": [
    "Convert to pandas for plotting and plot."
   ]
  },
  {
   "cell_type": "code",
   "execution_count": 117,
   "metadata": {},
   "outputs": [
    {
     "data": {
      "image/png": "[encoded data removed]",
      "text/plain": [
       "<Figure size 432x288 with 1 Axes>"
      ]
     },
     "metadata": {
      "needs_background": "light"
     },
     "output_type": "display_data"
    }
   ],
   "source": [
    "pandas_df = df.toPandas()\n",
    "\n",
    "ax = sns.countplot(x=\"Day_of_week\", data = pandas_df)\n",
    "ax.set_xticklabels([\"Sun\", \"Mon\", \"Tue\", \"Wed\", \"Thu\", \"Fri\", \"Sat\"], rotation='vertical', fontsize=10)\n",
    "plt.show()"
   ]
  },
  {
   "cell_type": "code",
   "execution_count": 119,
   "metadata": {},
   "outputs": [
    {
     "data": {
      "text/html": [
       "<div>\n",
       "<style scoped>\n",
       "    .dataframe tbody tr th:only-of-type {\n",
       "        vertical-align: middle;\n",
       "    }\n",
       "\n",
       "    .dataframe tbody tr th {\n",
       "        vertical-align: top;\n",
       "    }\n",
       "\n",
       "    .dataframe thead th {\n",
       "        text-align: right;\n",
       "    }\n",
       "</style>\n",
       "<table border=\"1\" class=\"dataframe\">\n",
       "  <thead>\n",
       "    <tr style=\"text-align: right;\">\n",
       "      <th></th>\n",
       "      <th>date</th>\n",
       "      <th>title</th>\n",
       "      <th>dist</th>\n",
       "      <th>price</th>\n",
       "      <th>fuel</th>\n",
       "      <th>gear</th>\n",
       "      <th>location</th>\n",
       "      <th>from</th>\n",
       "      <th>to</th>\n",
       "      <th>brand</th>\n",
       "      <th>model</th>\n",
       "      <th>time_since_listing</th>\n",
       "      <th>Day_of_week</th>\n",
       "    </tr>\n",
       "  </thead>\n",
       "  <tbody>\n",
       "    <tr>\n",
       "      <th>0</th>\n",
       "      <td>2019-02-09 23:16:47</td>\n",
       "      <td>vw jetta 1|6 multifuel| bensin etanol lågmil -09</td>\n",
       "      <td>3 500 - 3 999</td>\n",
       "      <td>78000.0</td>\n",
       "      <td>Miljöbränsle/Hybrid</td>\n",
       "      <td>Manuell</td>\n",
       "      <td>Centralt Söder</td>\n",
       "      <td>3500.0</td>\n",
       "      <td>3999.0</td>\n",
       "      <td>vw</td>\n",
       "      <td>jetta</td>\n",
       "      <td>10956</td>\n",
       "      <td>7</td>\n",
       "    </tr>\n",
       "    <tr>\n",
       "      <th>1</th>\n",
       "      <td>2019-02-09 23:16:26</td>\n",
       "      <td>volkswagen passat tdi 190hk eu6 executive gt -15</td>\n",
       "      <td>8 500 - 8 999</td>\n",
       "      <td>194995.0</td>\n",
       "      <td>Diesel</td>\n",
       "      <td>Automat</td>\n",
       "      <td>Öster</td>\n",
       "      <td>8500.0</td>\n",
       "      <td>8999.0</td>\n",
       "      <td>volkswagen</td>\n",
       "      <td>passat</td>\n",
       "      <td>10977</td>\n",
       "      <td>7</td>\n",
       "    </tr>\n",
       "    <tr>\n",
       "      <th>2</th>\n",
       "      <td>2019-02-09 23:09:14</td>\n",
       "      <td>toyota avensis verso 2.0 7-sits obs pris -04</td>\n",
       "      <td>19 500 - 19 999</td>\n",
       "      <td>34900.0</td>\n",
       "      <td>Bensin</td>\n",
       "      <td>Manuell</td>\n",
       "      <td>Centralt Norr</td>\n",
       "      <td>19500.0</td>\n",
       "      <td>19999.0</td>\n",
       "      <td>toyota</td>\n",
       "      <td>avensis</td>\n",
       "      <td>11409</td>\n",
       "      <td>7</td>\n",
       "    </tr>\n",
       "    <tr>\n",
       "      <th>3</th>\n",
       "      <td>2019-02-09 23:06:59</td>\n",
       "      <td>volvo 340 -85</td>\n",
       "      <td>15 000 - 15 499</td>\n",
       "      <td>1800.0</td>\n",
       "      <td>Bensin</td>\n",
       "      <td>Manuell</td>\n",
       "      <td>Hörby</td>\n",
       "      <td>15000.0</td>\n",
       "      <td>15499.0</td>\n",
       "      <td>volvo</td>\n",
       "      <td>340</td>\n",
       "      <td>11544</td>\n",
       "      <td>7</td>\n",
       "    </tr>\n",
       "    <tr>\n",
       "      <th>4</th>\n",
       "      <td>2019-02-09 23:06:55</td>\n",
       "      <td>peugeot expert 1.6hdi -07</td>\n",
       "      <td>18 500 - 18 999</td>\n",
       "      <td>41000.0</td>\n",
       "      <td>Diesel</td>\n",
       "      <td>Manuell</td>\n",
       "      <td>Centralt Norr</td>\n",
       "      <td>18500.0</td>\n",
       "      <td>18999.0</td>\n",
       "      <td>peugeot</td>\n",
       "      <td>expert</td>\n",
       "      <td>11548</td>\n",
       "      <td>7</td>\n",
       "    </tr>\n",
       "    <tr>\n",
       "      <th>5</th>\n",
       "      <td>2019-02-09 22:47:32</td>\n",
       "      <td>vw t5 multivan highline 180hk dsg/4m 7-sits -12</td>\n",
       "      <td>8 500 - 8 999</td>\n",
       "      <td>269000.0</td>\n",
       "      <td>Diesel</td>\n",
       "      <td>Automat</td>\n",
       "      <td>Sydväst</td>\n",
       "      <td>8500.0</td>\n",
       "      <td>8999.0</td>\n",
       "      <td>vw</td>\n",
       "      <td>t5</td>\n",
       "      <td>12711</td>\n",
       "      <td>7</td>\n",
       "    </tr>\n",
       "    <tr>\n",
       "      <th>6</th>\n",
       "      <td>2019-02-09 22:47:29</td>\n",
       "      <td>vwgolf 1|8 lågmil nybytt kamrem -95</td>\n",
       "      <td>14 500 - 14 999</td>\n",
       "      <td>14500.0</td>\n",
       "      <td>Bensin</td>\n",
       "      <td>Automat</td>\n",
       "      <td>Svedala</td>\n",
       "      <td>14500.0</td>\n",
       "      <td>14999.0</td>\n",
       "      <td>vwgolf</td>\n",
       "      <td>1|8</td>\n",
       "      <td>12714</td>\n",
       "      <td>7</td>\n",
       "    </tr>\n",
       "    <tr>\n",
       "      <th>7</th>\n",
       "      <td>2019-02-09 22:47:21</td>\n",
       "      <td>citroën c3 picasso 1|6 hdi 92hk -11</td>\n",
       "      <td>14 500 - 14 999</td>\n",
       "      <td>39500.0</td>\n",
       "      <td>Diesel</td>\n",
       "      <td>Manuell</td>\n",
       "      <td>Tomelilla</td>\n",
       "      <td>14500.0</td>\n",
       "      <td>14999.0</td>\n",
       "      <td>citroën</td>\n",
       "      <td>c3</td>\n",
       "      <td>12722</td>\n",
       "      <td>7</td>\n",
       "    </tr>\n",
       "    <tr>\n",
       "      <th>8</th>\n",
       "      <td>2019-02-09 22:34:40</td>\n",
       "      <td>citroen jumpy 2.0 hdi -07</td>\n",
       "      <td>21 000 - 21 499</td>\n",
       "      <td>42000.0</td>\n",
       "      <td>Diesel</td>\n",
       "      <td>Manuell</td>\n",
       "      <td>Centralt Norr</td>\n",
       "      <td>21000.0</td>\n",
       "      <td>21499.0</td>\n",
       "      <td>citroen</td>\n",
       "      <td>jumpy</td>\n",
       "      <td>13483</td>\n",
       "      <td>7</td>\n",
       "    </tr>\n",
       "    <tr>\n",
       "      <th>9</th>\n",
       "      <td>2019-02-09 22:34:31</td>\n",
       "      <td>saab 9-3 2.0t -01</td>\n",
       "      <td>18 000 - 18 499</td>\n",
       "      <td>9500.0</td>\n",
       "      <td>Bensin</td>\n",
       "      <td>Automat</td>\n",
       "      <td>Lund</td>\n",
       "      <td>18000.0</td>\n",
       "      <td>18499.0</td>\n",
       "      <td>saab</td>\n",
       "      <td>9-3</td>\n",
       "      <td>13492</td>\n",
       "      <td>7</td>\n",
       "    </tr>\n",
       "    <tr>\n",
       "      <th>10</th>\n",
       "      <td>2019-02-09 22:30:40</td>\n",
       "      <td>bmw 123i m sport 204 hk -11</td>\n",
       "      <td>16 000 - 16 499</td>\n",
       "      <td>114900.0</td>\n",
       "      <td>Diesel</td>\n",
       "      <td>Manuell</td>\n",
       "      <td>Helsingborg</td>\n",
       "      <td>16000.0</td>\n",
       "      <td>16499.0</td>\n",
       "      <td>bmw</td>\n",
       "      <td>123i</td>\n",
       "      <td>13723</td>\n",
       "      <td>7</td>\n",
       "    </tr>\n",
       "    <tr>\n",
       "      <th>11</th>\n",
       "      <td>2019-02-09 21:55:03</td>\n",
       "      <td>mercedes 220 diesel combi .nybes. / byte -12</td>\n",
       "      <td>17 500 - 17 999</td>\n",
       "      <td>120000.0</td>\n",
       "      <td>Diesel</td>\n",
       "      <td>Manuell</td>\n",
       "      <td>Ystad</td>\n",
       "      <td>17500.0</td>\n",
       "      <td>17999.0</td>\n",
       "      <td>mercedes</td>\n",
       "      <td>220</td>\n",
       "      <td>15860</td>\n",
       "      <td>7</td>\n",
       "    </tr>\n",
       "    <tr>\n",
       "      <th>12</th>\n",
       "      <td>2019-02-09 21:54:53</td>\n",
       "      <td>volvo 945 ftt -92</td>\n",
       "      <td>40 000 - 44 999</td>\n",
       "      <td>9000.0</td>\n",
       "      <td>Bensin</td>\n",
       "      <td>Manuell</td>\n",
       "      <td>Hässleholm</td>\n",
       "      <td>40000.0</td>\n",
       "      <td>44999.0</td>\n",
       "      <td>volvo</td>\n",
       "      <td>945</td>\n",
       "      <td>15870</td>\n",
       "      <td>7</td>\n",
       "    </tr>\n",
       "    <tr>\n",
       "      <th>13</th>\n",
       "      <td>2019-02-09 21:48:01</td>\n",
       "      <td>volvo s60 -01</td>\n",
       "      <td>19 500 - 19 999</td>\n",
       "      <td>21000.0</td>\n",
       "      <td>Bensin</td>\n",
       "      <td>Manuell</td>\n",
       "      <td>Simrishamn</td>\n",
       "      <td>19500.0</td>\n",
       "      <td>19999.0</td>\n",
       "      <td>volvo</td>\n",
       "      <td>s60</td>\n",
       "      <td>16282</td>\n",
       "      <td>7</td>\n",
       "    </tr>\n",
       "    <tr>\n",
       "      <th>14</th>\n",
       "      <td>2019-02-09 21:28:06</td>\n",
       "      <td>wolkswagen touran2.0 tdi-dsg -10</td>\n",
       "      <td>20 500 - 20 999</td>\n",
       "      <td>56900.0</td>\n",
       "      <td>Diesel</td>\n",
       "      <td>Automat</td>\n",
       "      <td>Centralt Norr</td>\n",
       "      <td>20500.0</td>\n",
       "      <td>20999.0</td>\n",
       "      <td>wolkswagen</td>\n",
       "      <td>touran2.0</td>\n",
       "      <td>17477</td>\n",
       "      <td>7</td>\n",
       "    </tr>\n",
       "    <tr>\n",
       "      <th>15</th>\n",
       "      <td>2019-02-09 21:27:59</td>\n",
       "      <td>volvo 745 se nybesiktigad -92</td>\n",
       "      <td>28 000 - 28 499</td>\n",
       "      <td>9900.0</td>\n",
       "      <td>Bensin</td>\n",
       "      <td>Manuell</td>\n",
       "      <td>Vellinge</td>\n",
       "      <td>28000.0</td>\n",
       "      <td>28499.0</td>\n",
       "      <td>volvo</td>\n",
       "      <td>745</td>\n",
       "      <td>17484</td>\n",
       "      <td>7</td>\n",
       "    </tr>\n",
       "    <tr>\n",
       "      <th>16</th>\n",
       "      <td>2019-02-09 21:27:26</td>\n",
       "      <td>peugeot 3008 diesel automat 15000 mil -10</td>\n",
       "      <td>15 000 - 15 499</td>\n",
       "      <td>55000.0</td>\n",
       "      <td>Diesel</td>\n",
       "      <td>Automat</td>\n",
       "      <td>Centralt Söder</td>\n",
       "      <td>15000.0</td>\n",
       "      <td>15499.0</td>\n",
       "      <td>peugeot</td>\n",
       "      <td>3008</td>\n",
       "      <td>17517</td>\n",
       "      <td>7</td>\n",
       "    </tr>\n",
       "    <tr>\n",
       "      <th>17</th>\n",
       "      <td>2019-02-09 20:58:04</td>\n",
       "      <td>saab aero sportcombi 1.9 ttid drag -10</td>\n",
       "      <td>24 000 - 24 499</td>\n",
       "      <td>49500.0</td>\n",
       "      <td>Diesel</td>\n",
       "      <td>Manuell</td>\n",
       "      <td>Ängelholm</td>\n",
       "      <td>24000.0</td>\n",
       "      <td>24499.0</td>\n",
       "      <td>saab</td>\n",
       "      <td>aero</td>\n",
       "      <td>19279</td>\n",
       "      <td>7</td>\n",
       "    </tr>\n",
       "    <tr>\n",
       "      <th>18</th>\n",
       "      <td>2019-02-09 20:53:09</td>\n",
       "      <td>golf v 1.9tdi -05</td>\n",
       "      <td>18 500 - 18 999</td>\n",
       "      <td>27000.0</td>\n",
       "      <td>Diesel</td>\n",
       "      <td>Manuell</td>\n",
       "      <td>Centralt Söder</td>\n",
       "      <td>18500.0</td>\n",
       "      <td>18999.0</td>\n",
       "      <td>golf</td>\n",
       "      <td>v</td>\n",
       "      <td>19574</td>\n",
       "      <td>7</td>\n",
       "    </tr>\n",
       "    <tr>\n",
       "      <th>19</th>\n",
       "      <td>2019-02-09 20:42:21</td>\n",
       "      <td>saab 9-5 vector -05</td>\n",
       "      <td>40 000 - 44 999</td>\n",
       "      <td>6000.0</td>\n",
       "      <td>Bensin</td>\n",
       "      <td>Manuell</td>\n",
       "      <td>Skurup</td>\n",
       "      <td>40000.0</td>\n",
       "      <td>44999.0</td>\n",
       "      <td>saab</td>\n",
       "      <td>9-5</td>\n",
       "      <td>20222</td>\n",
       "      <td>7</td>\n",
       "    </tr>\n",
       "    <tr>\n",
       "      <th>20</th>\n",
       "      <td>2019-02-09 20:41:38</td>\n",
       "      <td>bmw 316 105hk sedan| välvårdad -01</td>\n",
       "      <td>26 000 - 26 499</td>\n",
       "      <td>20900.0</td>\n",
       "      <td>Bensin</td>\n",
       "      <td>Manuell</td>\n",
       "      <td>Hässleholm</td>\n",
       "      <td>26000.0</td>\n",
       "      <td>26499.0</td>\n",
       "      <td>bmw</td>\n",
       "      <td>316</td>\n",
       "      <td>20265</td>\n",
       "      <td>7</td>\n",
       "    </tr>\n",
       "    <tr>\n",
       "      <th>21</th>\n",
       "      <td>2019-02-09 20:41:36</td>\n",
       "      <td>volvo v70| samma ägare sedan 2001 -99</td>\n",
       "      <td>35 000 - 39 999</td>\n",
       "      <td>7000.0</td>\n",
       "      <td>Bensin</td>\n",
       "      <td>Manuell</td>\n",
       "      <td>Vellinge</td>\n",
       "      <td>35000.0</td>\n",
       "      <td>39999.0</td>\n",
       "      <td>volvo</td>\n",
       "      <td>v70|</td>\n",
       "      <td>20267</td>\n",
       "      <td>7</td>\n",
       "    </tr>\n",
       "    <tr>\n",
       "      <th>22</th>\n",
       "      <td>2019-02-09 20:41:25</td>\n",
       "      <td>saab 9-5 se kombi 2.3t m -00</td>\n",
       "      <td>20 500 - 20 999</td>\n",
       "      <td>6000.0</td>\n",
       "      <td>Bensin</td>\n",
       "      <td>Manuell</td>\n",
       "      <td>Kristianstad</td>\n",
       "      <td>20500.0</td>\n",
       "      <td>20999.0</td>\n",
       "      <td>saab</td>\n",
       "      <td>9-5</td>\n",
       "      <td>20278</td>\n",
       "      <td>7</td>\n",
       "    </tr>\n",
       "    <tr>\n",
       "      <th>23</th>\n",
       "      <td>2019-02-09 20:41:12</td>\n",
       "      <td>ww golf -12</td>\n",
       "      <td>10 000 - 10 499</td>\n",
       "      <td>71500.0</td>\n",
       "      <td>Diesel</td>\n",
       "      <td>Manuell</td>\n",
       "      <td>Ängelholm</td>\n",
       "      <td>10000.0</td>\n",
       "      <td>10499.0</td>\n",
       "      <td>ww</td>\n",
       "      <td>golf</td>\n",
       "      <td>20291</td>\n",
       "      <td>7</td>\n",
       "    </tr>\n",
       "    <tr>\n",
       "      <th>24</th>\n",
       "      <td>2019-02-09 20:40:01</td>\n",
       "      <td>riktigt fin bmw 320d -10</td>\n",
       "      <td>20 000 - 20 499</td>\n",
       "      <td>85000.0</td>\n",
       "      <td>Diesel</td>\n",
       "      <td>Manuell</td>\n",
       "      <td>Kristianstad</td>\n",
       "      <td>20000.0</td>\n",
       "      <td>20499.0</td>\n",
       "      <td>riktigt</td>\n",
       "      <td>fin</td>\n",
       "      <td>20362</td>\n",
       "      <td>7</td>\n",
       "    </tr>\n",
       "    <tr>\n",
       "      <th>25</th>\n",
       "      <td>2019-02-09 20:19:22</td>\n",
       "      <td>volvo xc70 d5 automat -08</td>\n",
       "      <td>30 000 - 34 999</td>\n",
       "      <td>70000.0</td>\n",
       "      <td>Diesel</td>\n",
       "      <td>Automat</td>\n",
       "      <td>Kristianstad</td>\n",
       "      <td>30000.0</td>\n",
       "      <td>34999.0</td>\n",
       "      <td>volvo</td>\n",
       "      <td>xc70</td>\n",
       "      <td>21601</td>\n",
       "      <td>7</td>\n",
       "    </tr>\n",
       "    <tr>\n",
       "      <th>26</th>\n",
       "      <td>2019-02-09 20:15:59</td>\n",
       "      <td>passat variant 2.0 tdi -13</td>\n",
       "      <td>11 500 - 11 999</td>\n",
       "      <td>115000.0</td>\n",
       "      <td>Diesel</td>\n",
       "      <td>Automat</td>\n",
       "      <td>Klippan</td>\n",
       "      <td>11500.0</td>\n",
       "      <td>11999.0</td>\n",
       "      <td>passat</td>\n",
       "      <td>variant</td>\n",
       "      <td>21804</td>\n",
       "      <td>7</td>\n",
       "    </tr>\n",
       "    <tr>\n",
       "      <th>27</th>\n",
       "      <td>2019-02-09 19:59:32</td>\n",
       "      <td>volvo xc70 -09</td>\n",
       "      <td>25 500 - 25 999</td>\n",
       "      <td>75000.0</td>\n",
       "      <td>Diesel</td>\n",
       "      <td>Automat</td>\n",
       "      <td>Lund</td>\n",
       "      <td>25500.0</td>\n",
       "      <td>25999.0</td>\n",
       "      <td>volvo</td>\n",
       "      <td>xc70</td>\n",
       "      <td>22791</td>\n",
       "      <td>7</td>\n",
       "    </tr>\n",
       "    <tr>\n",
       "      <th>28</th>\n",
       "      <td>2019-02-09 19:33:09</td>\n",
       "      <td>peugeot 206 cc 1|6 plåtcab -02</td>\n",
       "      <td>17 500 - 17 999</td>\n",
       "      <td>15500.0</td>\n",
       "      <td>Bensin</td>\n",
       "      <td>Manuell</td>\n",
       "      <td>Skurup</td>\n",
       "      <td>17500.0</td>\n",
       "      <td>17999.0</td>\n",
       "      <td>peugeot</td>\n",
       "      <td>206</td>\n",
       "      <td>24374</td>\n",
       "      <td>7</td>\n",
       "    </tr>\n",
       "    <tr>\n",
       "      <th>29</th>\n",
       "      <td>2019-02-09 19:24:57</td>\n",
       "      <td>ford focus kombi 1.8 flexifuel 125hk -09</td>\n",
       "      <td>21 500 - 21 999</td>\n",
       "      <td>24000.0</td>\n",
       "      <td>Bensin</td>\n",
       "      <td>Manuell</td>\n",
       "      <td>Kristianstad</td>\n",
       "      <td>21500.0</td>\n",
       "      <td>21999.0</td>\n",
       "      <td>ford</td>\n",
       "      <td>focus</td>\n",
       "      <td>24866</td>\n",
       "      <td>7</td>\n",
       "    </tr>\n",
       "    <tr>\n",
       "      <th>...</th>\n",
       "      <td>...</td>\n",
       "      <td>...</td>\n",
       "      <td>...</td>\n",
       "      <td>...</td>\n",
       "      <td>...</td>\n",
       "      <td>...</td>\n",
       "      <td>...</td>\n",
       "      <td>...</td>\n",
       "      <td>...</td>\n",
       "      <td>...</td>\n",
       "      <td>...</td>\n",
       "      <td>...</td>\n",
       "      <td>...</td>\n",
       "    </tr>\n",
       "    <tr>\n",
       "      <th>2540</th>\n",
       "      <td>2018-12-10 11:42:25</td>\n",
       "      <td>toyota auris touring sports -15</td>\n",
       "      <td>7 000 - 7 499</td>\n",
       "      <td>108000.0</td>\n",
       "      <td>Diesel</td>\n",
       "      <td>Manuell</td>\n",
       "      <td>Centralt Norr</td>\n",
       "      <td>7000.0</td>\n",
       "      <td>7499.0</td>\n",
       "      <td>toyota</td>\n",
       "      <td>auris</td>\n",
       "      <td>5323018</td>\n",
       "      <td>2</td>\n",
       "    </tr>\n",
       "    <tr>\n",
       "      <th>2541</th>\n",
       "      <td>2018-12-10 10:47:41</td>\n",
       "      <td>dodge ram srt 10 -06</td>\n",
       "      <td>7 500 - 7 999</td>\n",
       "      <td>210000.0</td>\n",
       "      <td>Bensin</td>\n",
       "      <td>Automat</td>\n",
       "      <td>Centralt Söder</td>\n",
       "      <td>7500.0</td>\n",
       "      <td>7999.0</td>\n",
       "      <td>dodge</td>\n",
       "      <td>ram</td>\n",
       "      <td>5326302</td>\n",
       "      <td>2</td>\n",
       "    </tr>\n",
       "    <tr>\n",
       "      <th>2542</th>\n",
       "      <td>2018-12-10 10:37:05</td>\n",
       "      <td>volvo v50 d5 automat momentum 180hk -07</td>\n",
       "      <td>20 000 - 20 499</td>\n",
       "      <td>45000.0</td>\n",
       "      <td>Diesel</td>\n",
       "      <td>Automat</td>\n",
       "      <td>Ystad</td>\n",
       "      <td>20000.0</td>\n",
       "      <td>20499.0</td>\n",
       "      <td>volvo</td>\n",
       "      <td>v50</td>\n",
       "      <td>5326938</td>\n",
       "      <td>2</td>\n",
       "    </tr>\n",
       "    <tr>\n",
       "      <th>2543</th>\n",
       "      <td>2018-12-10 10:30:33</td>\n",
       "      <td>honda accord tourer -06</td>\n",
       "      <td>17 500 - 17 999</td>\n",
       "      <td>32000.0</td>\n",
       "      <td>Bensin</td>\n",
       "      <td>Manuell</td>\n",
       "      <td>Ängelholm</td>\n",
       "      <td>17500.0</td>\n",
       "      <td>17999.0</td>\n",
       "      <td>honda</td>\n",
       "      <td>accord</td>\n",
       "      <td>5327330</td>\n",
       "      <td>2</td>\n",
       "    </tr>\n",
       "    <tr>\n",
       "      <th>2544</th>\n",
       "      <td>2018-12-10 08:33:47</td>\n",
       "      <td>volvo v 70 98 -98</td>\n",
       "      <td>29 500 - 29 999</td>\n",
       "      <td>13000.0</td>\n",
       "      <td>Bensin</td>\n",
       "      <td>Automat</td>\n",
       "      <td>Ängelholm</td>\n",
       "      <td>29500.0</td>\n",
       "      <td>29999.0</td>\n",
       "      <td>volvo</td>\n",
       "      <td>v</td>\n",
       "      <td>5334336</td>\n",
       "      <td>2</td>\n",
       "    </tr>\n",
       "    <tr>\n",
       "      <th>2545</th>\n",
       "      <td>2018-12-09 23:30:59</td>\n",
       "      <td>peugeot expert långa modellen -12</td>\n",
       "      <td>12 000 - 12 499</td>\n",
       "      <td>63000.0</td>\n",
       "      <td>Diesel</td>\n",
       "      <td>Manuell</td>\n",
       "      <td>Burlöv</td>\n",
       "      <td>12000.0</td>\n",
       "      <td>12499.0</td>\n",
       "      <td>peugeot</td>\n",
       "      <td>expert</td>\n",
       "      <td>5366904</td>\n",
       "      <td>1</td>\n",
       "    </tr>\n",
       "    <tr>\n",
       "      <th>2546</th>\n",
       "      <td>2018-12-09 22:53:33</td>\n",
       "      <td>toyota avensis -01</td>\n",
       "      <td>19 000 - 19 499</td>\n",
       "      <td>12900.0</td>\n",
       "      <td>Bensin</td>\n",
       "      <td>Manuell</td>\n",
       "      <td>Sydost</td>\n",
       "      <td>19000.0</td>\n",
       "      <td>19499.0</td>\n",
       "      <td>toyota</td>\n",
       "      <td>avensis</td>\n",
       "      <td>5369150</td>\n",
       "      <td>1</td>\n",
       "    </tr>\n",
       "    <tr>\n",
       "      <th>2547</th>\n",
       "      <td>2018-12-09 22:45:33</td>\n",
       "      <td>dacia lastbil regag -13</td>\n",
       "      <td>12 500 - 12 999</td>\n",
       "      <td>72000.0</td>\n",
       "      <td>Diesel</td>\n",
       "      <td>Manuell</td>\n",
       "      <td>Ängelholm</td>\n",
       "      <td>12500.0</td>\n",
       "      <td>12999.0</td>\n",
       "      <td>dacia</td>\n",
       "      <td>lastbil</td>\n",
       "      <td>5369630</td>\n",
       "      <td>1</td>\n",
       "    </tr>\n",
       "    <tr>\n",
       "      <th>2548</th>\n",
       "      <td>2018-12-09 22:42:55</td>\n",
       "      <td>lincoln navigator sport. 5.4 v8 med 8 sitt -08</td>\n",
       "      <td>19 000 - 19 499</td>\n",
       "      <td>129000.0</td>\n",
       "      <td>Bensin</td>\n",
       "      <td>Automat</td>\n",
       "      <td>Sjöbo</td>\n",
       "      <td>19000.0</td>\n",
       "      <td>19499.0</td>\n",
       "      <td>lincoln</td>\n",
       "      <td>navigator</td>\n",
       "      <td>5369788</td>\n",
       "      <td>1</td>\n",
       "    </tr>\n",
       "    <tr>\n",
       "      <th>2549</th>\n",
       "      <td>2018-12-09 21:54:31</td>\n",
       "      <td>volvo xc 90 t6 272 hk -03</td>\n",
       "      <td>29 500 - 29 999</td>\n",
       "      <td>39500.0</td>\n",
       "      <td>Bensin</td>\n",
       "      <td>Automat</td>\n",
       "      <td>Centralt Söder</td>\n",
       "      <td>29500.0</td>\n",
       "      <td>29999.0</td>\n",
       "      <td>volvo</td>\n",
       "      <td>xc</td>\n",
       "      <td>5372692</td>\n",
       "      <td>1</td>\n",
       "    </tr>\n",
       "    <tr>\n",
       "      <th>2550</th>\n",
       "      <td>2018-12-09 21:41:41</td>\n",
       "      <td>peugeot 2.0 307 -05</td>\n",
       "      <td>19 000 - 19 499</td>\n",
       "      <td>11500.0</td>\n",
       "      <td>Bensin</td>\n",
       "      <td>Manuell</td>\n",
       "      <td>Sydväst</td>\n",
       "      <td>19000.0</td>\n",
       "      <td>19499.0</td>\n",
       "      <td>peugeot</td>\n",
       "      <td>2.0</td>\n",
       "      <td>5373462</td>\n",
       "      <td>1</td>\n",
       "    </tr>\n",
       "    <tr>\n",
       "      <th>2551</th>\n",
       "      <td>2018-12-09 21:12:23</td>\n",
       "      <td>pedant skött audi a6 2.0 t -08</td>\n",
       "      <td>19 000 - 19 499</td>\n",
       "      <td>69500.0</td>\n",
       "      <td>Bensin</td>\n",
       "      <td>Manuell</td>\n",
       "      <td>Vellinge</td>\n",
       "      <td>19000.0</td>\n",
       "      <td>19499.0</td>\n",
       "      <td>pedant</td>\n",
       "      <td>skött</td>\n",
       "      <td>5375220</td>\n",
       "      <td>1</td>\n",
       "    </tr>\n",
       "    <tr>\n",
       "      <th>2552</th>\n",
       "      <td>2018-12-09 20:33:26</td>\n",
       "      <td>opel astra 1.6 bensin. -00</td>\n",
       "      <td>30 000 - 34 999</td>\n",
       "      <td>9900.0</td>\n",
       "      <td>Bensin</td>\n",
       "      <td>Manuell</td>\n",
       "      <td>Staffanstorp</td>\n",
       "      <td>30000.0</td>\n",
       "      <td>34999.0</td>\n",
       "      <td>opel</td>\n",
       "      <td>astra</td>\n",
       "      <td>5377557</td>\n",
       "      <td>1</td>\n",
       "    </tr>\n",
       "    <tr>\n",
       "      <th>2553</th>\n",
       "      <td>2018-12-09 19:41:00</td>\n",
       "      <td>mitsubishi grandis -07</td>\n",
       "      <td>22 000 - 22 499</td>\n",
       "      <td>46500.0</td>\n",
       "      <td>Bensin</td>\n",
       "      <td>Automat</td>\n",
       "      <td>Hässleholm</td>\n",
       "      <td>22000.0</td>\n",
       "      <td>22499.0</td>\n",
       "      <td>mitsubishi</td>\n",
       "      <td>grandis</td>\n",
       "      <td>5380703</td>\n",
       "      <td>1</td>\n",
       "    </tr>\n",
       "    <tr>\n",
       "      <th>2554</th>\n",
       "      <td>2018-12-09 19:09:48</td>\n",
       "      <td>trans-am targa ram air ws6 -01</td>\n",
       "      <td>11 000 - 11 499</td>\n",
       "      <td>130000.0</td>\n",
       "      <td>Bensin</td>\n",
       "      <td>Automat</td>\n",
       "      <td>Sjöbo</td>\n",
       "      <td>11000.0</td>\n",
       "      <td>11499.0</td>\n",
       "      <td>trans-am</td>\n",
       "      <td>targa</td>\n",
       "      <td>5382575</td>\n",
       "      <td>1</td>\n",
       "    </tr>\n",
       "    <tr>\n",
       "      <th>2555</th>\n",
       "      <td>2018-12-09 18:59:15</td>\n",
       "      <td>audi a4 ny bes o skatt -03</td>\n",
       "      <td>27 000 - 27 499</td>\n",
       "      <td>19500.0</td>\n",
       "      <td>Bensin</td>\n",
       "      <td>Automat</td>\n",
       "      <td>Kristianstad</td>\n",
       "      <td>27000.0</td>\n",
       "      <td>27499.0</td>\n",
       "      <td>audi</td>\n",
       "      <td>a4</td>\n",
       "      <td>5383208</td>\n",
       "      <td>1</td>\n",
       "    </tr>\n",
       "    <tr>\n",
       "      <th>2556</th>\n",
       "      <td>2018-12-09 18:52:32</td>\n",
       "      <td>audi a4 allroad / 2|0 tdi -11</td>\n",
       "      <td>13 000 - 13 499</td>\n",
       "      <td>138000.0</td>\n",
       "      <td>Diesel</td>\n",
       "      <td>Manuell</td>\n",
       "      <td>Ängelholm</td>\n",
       "      <td>13000.0</td>\n",
       "      <td>13499.0</td>\n",
       "      <td>audi</td>\n",
       "      <td>a4</td>\n",
       "      <td>5383611</td>\n",
       "      <td>1</td>\n",
       "    </tr>\n",
       "    <tr>\n",
       "      <th>2557</th>\n",
       "      <td>2018-12-09 17:51:56</td>\n",
       "      <td>ford focus 1.6 -05</td>\n",
       "      <td>22 500 - 22 999</td>\n",
       "      <td>13900.0</td>\n",
       "      <td>Bensin</td>\n",
       "      <td>Manuell</td>\n",
       "      <td>Landskrona</td>\n",
       "      <td>22500.0</td>\n",
       "      <td>22999.0</td>\n",
       "      <td>ford</td>\n",
       "      <td>focus</td>\n",
       "      <td>5387247</td>\n",
       "      <td>1</td>\n",
       "    </tr>\n",
       "    <tr>\n",
       "      <th>2558</th>\n",
       "      <td>2018-12-09 17:28:44</td>\n",
       "      <td>peugeot 407 2.2 hdi -07</td>\n",
       "      <td>35 000 - 39 999</td>\n",
       "      <td>18500.0</td>\n",
       "      <td>Diesel</td>\n",
       "      <td>Manuell</td>\n",
       "      <td>Bjuv</td>\n",
       "      <td>35000.0</td>\n",
       "      <td>39999.0</td>\n",
       "      <td>peugeot</td>\n",
       "      <td>407</td>\n",
       "      <td>5388639</td>\n",
       "      <td>1</td>\n",
       "    </tr>\n",
       "    <tr>\n",
       "      <th>2559</th>\n",
       "      <td>2018-12-09 15:43:05</td>\n",
       "      <td>vwgolf 1|6 m1 -02</td>\n",
       "      <td>23 000 - 23 499</td>\n",
       "      <td>13500.0</td>\n",
       "      <td>Bensin</td>\n",
       "      <td>Manuell</td>\n",
       "      <td>Kristianstad</td>\n",
       "      <td>23000.0</td>\n",
       "      <td>23499.0</td>\n",
       "      <td>vwgolf</td>\n",
       "      <td>1|6</td>\n",
       "      <td>5394978</td>\n",
       "      <td>1</td>\n",
       "    </tr>\n",
       "    <tr>\n",
       "      <th>2560</th>\n",
       "      <td>2018-12-09 15:24:17</td>\n",
       "      <td>saab 9-3 -03</td>\n",
       "      <td>23 000 - 23 499</td>\n",
       "      <td>19000.0</td>\n",
       "      <td>Bensin</td>\n",
       "      <td>Manuell</td>\n",
       "      <td>Landskrona</td>\n",
       "      <td>23000.0</td>\n",
       "      <td>23499.0</td>\n",
       "      <td>saab</td>\n",
       "      <td>9-3</td>\n",
       "      <td>5396106</td>\n",
       "      <td>1</td>\n",
       "    </tr>\n",
       "    <tr>\n",
       "      <th>2561</th>\n",
       "      <td>2018-12-09 14:41:53</td>\n",
       "      <td>kia bykanto -06</td>\n",
       "      <td>15 500 - 15 999</td>\n",
       "      <td>16000.0</td>\n",
       "      <td>Bensin</td>\n",
       "      <td>Manuell</td>\n",
       "      <td>Centralt Norr</td>\n",
       "      <td>15500.0</td>\n",
       "      <td>15999.0</td>\n",
       "      <td>kia</td>\n",
       "      <td>bykanto</td>\n",
       "      <td>5398650</td>\n",
       "      <td>1</td>\n",
       "    </tr>\n",
       "    <tr>\n",
       "      <th>2562</th>\n",
       "      <td>2018-12-09 14:11:07</td>\n",
       "      <td>peugeot 307cc cab| -08</td>\n",
       "      <td>17 500 - 17 999</td>\n",
       "      <td>57000.0</td>\n",
       "      <td>Bensin</td>\n",
       "      <td>Automat</td>\n",
       "      <td>Östra Göinge</td>\n",
       "      <td>17500.0</td>\n",
       "      <td>17999.0</td>\n",
       "      <td>peugeot</td>\n",
       "      <td>307cc</td>\n",
       "      <td>5400496</td>\n",
       "      <td>1</td>\n",
       "    </tr>\n",
       "    <tr>\n",
       "      <th>2563</th>\n",
       "      <td>2018-12-09 14:05:29</td>\n",
       "      <td>ford focus 04 4900:- -04</td>\n",
       "      <td>21 000 - 21 499</td>\n",
       "      <td>4900.0</td>\n",
       "      <td>Bensin</td>\n",
       "      <td>Manuell</td>\n",
       "      <td>Eslöv</td>\n",
       "      <td>21000.0</td>\n",
       "      <td>21499.0</td>\n",
       "      <td>ford</td>\n",
       "      <td>focus</td>\n",
       "      <td>5400834</td>\n",
       "      <td>1</td>\n",
       "    </tr>\n",
       "    <tr>\n",
       "      <th>2564</th>\n",
       "      <td>2018-12-09 13:55:10</td>\n",
       "      <td>toyota auris 5d - diesel -12</td>\n",
       "      <td>12 000 - 12 499</td>\n",
       "      <td>69000.0</td>\n",
       "      <td>Diesel</td>\n",
       "      <td>Manuell</td>\n",
       "      <td>Öster</td>\n",
       "      <td>12000.0</td>\n",
       "      <td>12499.0</td>\n",
       "      <td>toyota</td>\n",
       "      <td>auris</td>\n",
       "      <td>5401453</td>\n",
       "      <td>1</td>\n",
       "    </tr>\n",
       "    <tr>\n",
       "      <th>2565</th>\n",
       "      <td>2018-12-09 13:31:45</td>\n",
       "      <td>honda accord 2.0 -99</td>\n",
       "      <td>20 500 - 20 999</td>\n",
       "      <td>6000.0</td>\n",
       "      <td>Bensin</td>\n",
       "      <td>Manuell</td>\n",
       "      <td>Helsingborg</td>\n",
       "      <td>20500.0</td>\n",
       "      <td>20999.0</td>\n",
       "      <td>honda</td>\n",
       "      <td>accord</td>\n",
       "      <td>5402858</td>\n",
       "      <td>1</td>\n",
       "    </tr>\n",
       "    <tr>\n",
       "      <th>2566</th>\n",
       "      <td>2018-12-09 12:03:57</td>\n",
       "      <td>volvo v40 classic -04</td>\n",
       "      <td>30 000 - 34 999</td>\n",
       "      <td>9800.0</td>\n",
       "      <td>Bensin</td>\n",
       "      <td>Manuell</td>\n",
       "      <td>Klippan</td>\n",
       "      <td>30000.0</td>\n",
       "      <td>34999.0</td>\n",
       "      <td>volvo</td>\n",
       "      <td>v40</td>\n",
       "      <td>5408126</td>\n",
       "      <td>1</td>\n",
       "    </tr>\n",
       "    <tr>\n",
       "      <th>2567</th>\n",
       "      <td>2018-12-09 11:48:59</td>\n",
       "      <td>mitsubishi grandis 7 sits automat -05</td>\n",
       "      <td>19 000 - 19 499</td>\n",
       "      <td>30900.0</td>\n",
       "      <td>Bensin</td>\n",
       "      <td>Automat</td>\n",
       "      <td>Burlöv</td>\n",
       "      <td>19000.0</td>\n",
       "      <td>19499.0</td>\n",
       "      <td>mitsubishi</td>\n",
       "      <td>grandis</td>\n",
       "      <td>5409024</td>\n",
       "      <td>1</td>\n",
       "    </tr>\n",
       "    <tr>\n",
       "      <th>2568</th>\n",
       "      <td>2018-12-09 10:47:16</td>\n",
       "      <td>peugeot 307 2|0 3d ny besiktad -01</td>\n",
       "      <td>23 000 - 23 499</td>\n",
       "      <td>12900.0</td>\n",
       "      <td>Bensin</td>\n",
       "      <td>Manuell</td>\n",
       "      <td>Sydost</td>\n",
       "      <td>23000.0</td>\n",
       "      <td>23499.0</td>\n",
       "      <td>peugeot</td>\n",
       "      <td>307</td>\n",
       "      <td>5412727</td>\n",
       "      <td>1</td>\n",
       "    </tr>\n",
       "    <tr>\n",
       "      <th>2569</th>\n",
       "      <td>2018-12-09 09:20:54</td>\n",
       "      <td>c5 automat nybes.skatt. full utru. hel skin -05</td>\n",
       "      <td>24 000 - 24 499</td>\n",
       "      <td>16800.0</td>\n",
       "      <td>Diesel</td>\n",
       "      <td>Automat</td>\n",
       "      <td>Kristianstad</td>\n",
       "      <td>24000.0</td>\n",
       "      <td>24499.0</td>\n",
       "      <td>c5</td>\n",
       "      <td>automat</td>\n",
       "      <td>5417909</td>\n",
       "      <td>1</td>\n",
       "    </tr>\n",
       "  </tbody>\n",
       "</table>\n",
       "<p>2570 rows × 13 columns</p>\n",
       "</div>"
      ],
      "text/plain": [
       "                     date                                             title  \\\n",
       "0     2019-02-09 23:16:47  vw jetta 1|6 multifuel| bensin etanol lågmil -09   \n",
       "1     2019-02-09 23:16:26  volkswagen passat tdi 190hk eu6 executive gt -15   \n",
       "2     2019-02-09 23:09:14      toyota avensis verso 2.0 7-sits obs pris -04   \n",
       "3     2019-02-09 23:06:59                                     volvo 340 -85   \n",
       "4     2019-02-09 23:06:55                         peugeot expert 1.6hdi -07   \n",
       "5     2019-02-09 22:47:32   vw t5 multivan highline 180hk dsg/4m 7-sits -12   \n",
       "6     2019-02-09 22:47:29               vwgolf 1|8 lågmil nybytt kamrem -95   \n",
       "7     2019-02-09 22:47:21               citroën c3 picasso 1|6 hdi 92hk -11   \n",
       "8     2019-02-09 22:34:40                         citroen jumpy 2.0 hdi -07   \n",
       "9     2019-02-09 22:34:31                                 saab 9-3 2.0t -01   \n",
       "10    2019-02-09 22:30:40                       bmw 123i m sport 204 hk -11   \n",
       "11    2019-02-09 21:55:03      mercedes 220 diesel combi .nybes. / byte -12   \n",
       "12    2019-02-09 21:54:53                                 volvo 945 ftt -92   \n",
       "13    2019-02-09 21:48:01                                     volvo s60 -01   \n",
       "14    2019-02-09 21:28:06                  wolkswagen touran2.0 tdi-dsg -10   \n",
       "15    2019-02-09 21:27:59                     volvo 745 se nybesiktigad -92   \n",
       "16    2019-02-09 21:27:26         peugeot 3008 diesel automat 15000 mil -10   \n",
       "17    2019-02-09 20:58:04            saab aero sportcombi 1.9 ttid drag -10   \n",
       "18    2019-02-09 20:53:09                                 golf v 1.9tdi -05   \n",
       "19    2019-02-09 20:42:21                               saab 9-5 vector -05   \n",
       "20    2019-02-09 20:41:38                bmw 316 105hk sedan| välvårdad -01   \n",
       "21    2019-02-09 20:41:36             volvo v70| samma ägare sedan 2001 -99   \n",
       "22    2019-02-09 20:41:25                      saab 9-5 se kombi 2.3t m -00   \n",
       "23    2019-02-09 20:41:12                                       ww golf -12   \n",
       "24    2019-02-09 20:40:01                          riktigt fin bmw 320d -10   \n",
       "25    2019-02-09 20:19:22                         volvo xc70 d5 automat -08   \n",
       "26    2019-02-09 20:15:59                        passat variant 2.0 tdi -13   \n",
       "27    2019-02-09 19:59:32                                    volvo xc70 -09   \n",
       "28    2019-02-09 19:33:09                    peugeot 206 cc 1|6 plåtcab -02   \n",
       "29    2019-02-09 19:24:57          ford focus kombi 1.8 flexifuel 125hk -09   \n",
       "...                   ...                                               ...   \n",
       "2540  2018-12-10 11:42:25                   toyota auris touring sports -15   \n",
       "2541  2018-12-10 10:47:41                              dodge ram srt 10 -06   \n",
       "2542  2018-12-10 10:37:05           volvo v50 d5 automat momentum 180hk -07   \n",
       "2543  2018-12-10 10:30:33                           honda accord tourer -06   \n",
       "2544  2018-12-10 08:33:47                                 volvo v 70 98 -98   \n",
       "2545  2018-12-09 23:30:59                 peugeot expert långa modellen -12   \n",
       "2546  2018-12-09 22:53:33                                toyota avensis -01   \n",
       "2547  2018-12-09 22:45:33                           dacia lastbil regag -13   \n",
       "2548  2018-12-09 22:42:55    lincoln navigator sport. 5.4 v8 med 8 sitt -08   \n",
       "2549  2018-12-09 21:54:31                         volvo xc 90 t6 272 hk -03   \n",
       "2550  2018-12-09 21:41:41                               peugeot 2.0 307 -05   \n",
       "2551  2018-12-09 21:12:23                    pedant skött audi a6 2.0 t -08   \n",
       "2552  2018-12-09 20:33:26                        opel astra 1.6 bensin. -00   \n",
       "2553  2018-12-09 19:41:00                            mitsubishi grandis -07   \n",
       "2554  2018-12-09 19:09:48                    trans-am targa ram air ws6 -01   \n",
       "2555  2018-12-09 18:59:15                        audi a4 ny bes o skatt -03   \n",
       "2556  2018-12-09 18:52:32                     audi a4 allroad / 2|0 tdi -11   \n",
       "2557  2018-12-09 17:51:56                                ford focus 1.6 -05   \n",
       "2558  2018-12-09 17:28:44                           peugeot 407 2.2 hdi -07   \n",
       "2559  2018-12-09 15:43:05                                 vwgolf 1|6 m1 -02   \n",
       "2560  2018-12-09 15:24:17                                      saab 9-3 -03   \n",
       "2561  2018-12-09 14:41:53                                   kia bykanto -06   \n",
       "2562  2018-12-09 14:11:07                            peugeot 307cc cab| -08   \n",
       "2563  2018-12-09 14:05:29                          ford focus 04 4900:- -04   \n",
       "2564  2018-12-09 13:55:10                      toyota auris 5d - diesel -12   \n",
       "2565  2018-12-09 13:31:45                              honda accord 2.0 -99   \n",
       "2566  2018-12-09 12:03:57                             volvo v40 classic -04   \n",
       "2567  2018-12-09 11:48:59             mitsubishi grandis 7 sits automat -05   \n",
       "2568  2018-12-09 10:47:16                peugeot 307 2|0 3d ny besiktad -01   \n",
       "2569  2018-12-09 09:20:54   c5 automat nybes.skatt. full utru. hel skin -05   \n",
       "\n",
       "                 dist     price                 fuel     gear        location  \\\n",
       "0       3 500 - 3 999   78000.0  Miljöbränsle/Hybrid  Manuell  Centralt Söder   \n",
       "1       8 500 - 8 999  194995.0               Diesel  Automat           Öster   \n",
       "2     19 500 - 19 999   34900.0               Bensin  Manuell   Centralt Norr   \n",
       "3     15 000 - 15 499    1800.0               Bensin  Manuell           Hörby   \n",
       "4     18 500 - 18 999   41000.0               Diesel  Manuell   Centralt Norr   \n",
       "5       8 500 - 8 999  269000.0               Diesel  Automat         Sydväst   \n",
       "6     14 500 - 14 999   14500.0               Bensin  Automat         Svedala   \n",
       "7     14 500 - 14 999   39500.0               Diesel  Manuell       Tomelilla   \n",
       "8     21 000 - 21 499   42000.0               Diesel  Manuell   Centralt Norr   \n",
       "9     18 000 - 18 499    9500.0               Bensin  Automat            Lund   \n",
       "10    16 000 - 16 499  114900.0               Diesel  Manuell     Helsingborg   \n",
       "11    17 500 - 17 999  120000.0               Diesel  Manuell           Ystad   \n",
       "12    40 000 - 44 999    9000.0               Bensin  Manuell      Hässleholm   \n",
       "13    19 500 - 19 999   21000.0               Bensin  Manuell      Simrishamn   \n",
       "14    20 500 - 20 999   56900.0               Diesel  Automat   Centralt Norr   \n",
       "15    28 000 - 28 499    9900.0               Bensin  Manuell        Vellinge   \n",
       "16    15 000 - 15 499   55000.0               Diesel  Automat  Centralt Söder   \n",
       "17    24 000 - 24 499   49500.0               Diesel  Manuell       Ängelholm   \n",
       "18    18 500 - 18 999   27000.0               Diesel  Manuell  Centralt Söder   \n",
       "19    40 000 - 44 999    6000.0               Bensin  Manuell          Skurup   \n",
       "20    26 000 - 26 499   20900.0               Bensin  Manuell      Hässleholm   \n",
       "21    35 000 - 39 999    7000.0               Bensin  Manuell        Vellinge   \n",
       "22    20 500 - 20 999    6000.0               Bensin  Manuell    Kristianstad   \n",
       "23    10 000 - 10 499   71500.0               Diesel  Manuell       Ängelholm   \n",
       "24    20 000 - 20 499   85000.0               Diesel  Manuell    Kristianstad   \n",
       "25    30 000 - 34 999   70000.0               Diesel  Automat    Kristianstad   \n",
       "26    11 500 - 11 999  115000.0               Diesel  Automat         Klippan   \n",
       "27    25 500 - 25 999   75000.0               Diesel  Automat            Lund   \n",
       "28    17 500 - 17 999   15500.0               Bensin  Manuell          Skurup   \n",
       "29    21 500 - 21 999   24000.0               Bensin  Manuell    Kristianstad   \n",
       "...               ...       ...                  ...      ...             ...   \n",
       "2540    7 000 - 7 499  108000.0               Diesel  Manuell   Centralt Norr   \n",
       "2541    7 500 - 7 999  210000.0               Bensin  Automat  Centralt Söder   \n",
       "2542  20 000 - 20 499   45000.0               Diesel  Automat           Ystad   \n",
       "2543  17 500 - 17 999   32000.0               Bensin  Manuell       Ängelholm   \n",
       "2544  29 500 - 29 999   13000.0               Bensin  Automat       Ängelholm   \n",
       "2545  12 000 - 12 499   63000.0               Diesel  Manuell          Burlöv   \n",
       "2546  19 000 - 19 499   12900.0               Bensin  Manuell          Sydost   \n",
       "2547  12 500 - 12 999   72000.0               Diesel  Manuell       Ängelholm   \n",
       "2548  19 000 - 19 499  129000.0               Bensin  Automat           Sjöbo   \n",
       "2549  29 500 - 29 999   39500.0               Bensin  Automat  Centralt Söder   \n",
       "2550  19 000 - 19 499   11500.0               Bensin  Manuell         Sydväst   \n",
       "2551  19 000 - 19 499   69500.0               Bensin  Manuell        Vellinge   \n",
       "2552  30 000 - 34 999    9900.0               Bensin  Manuell    Staffanstorp   \n",
       "2553  22 000 - 22 499   46500.0               Bensin  Automat      Hässleholm   \n",
       "2554  11 000 - 11 499  130000.0               Bensin  Automat           Sjöbo   \n",
       "2555  27 000 - 27 499   19500.0               Bensin  Automat    Kristianstad   \n",
       "2556  13 000 - 13 499  138000.0               Diesel  Manuell       Ängelholm   \n",
       "2557  22 500 - 22 999   13900.0               Bensin  Manuell      Landskrona   \n",
       "2558  35 000 - 39 999   18500.0               Diesel  Manuell            Bjuv   \n",
       "2559  23 000 - 23 499   13500.0               Bensin  Manuell    Kristianstad   \n",
       "2560  23 000 - 23 499   19000.0               Bensin  Manuell      Landskrona   \n",
       "2561  15 500 - 15 999   16000.0               Bensin  Manuell   Centralt Norr   \n",
       "2562  17 500 - 17 999   57000.0               Bensin  Automat    Östra Göinge   \n",
       "2563  21 000 - 21 499    4900.0               Bensin  Manuell           Eslöv   \n",
       "2564  12 000 - 12 499   69000.0               Diesel  Manuell           Öster   \n",
       "2565  20 500 - 20 999    6000.0               Bensin  Manuell     Helsingborg   \n",
       "2566  30 000 - 34 999    9800.0               Bensin  Manuell         Klippan   \n",
       "2567  19 000 - 19 499   30900.0               Bensin  Automat          Burlöv   \n",
       "2568  23 000 - 23 499   12900.0               Bensin  Manuell          Sydost   \n",
       "2569  24 000 - 24 499   16800.0               Diesel  Automat    Kristianstad   \n",
       "\n",
       "         from       to       brand      model  time_since_listing  Day_of_week  \n",
       "0      3500.0   3999.0          vw      jetta               10956            7  \n",
       "1      8500.0   8999.0  volkswagen     passat               10977            7  \n",
       "2     19500.0  19999.0      toyota    avensis               11409            7  \n",
       "3     15000.0  15499.0       volvo        340               11544            7  \n",
       "4     18500.0  18999.0     peugeot     expert               11548            7  \n",
       "5      8500.0   8999.0          vw         t5               12711            7  \n",
       "6     14500.0  14999.0      vwgolf        1|8               12714            7  \n",
       "7     14500.0  14999.0     citroën         c3               12722            7  \n",
       "8     21000.0  21499.0     citroen      jumpy               13483            7  \n",
       "9     18000.0  18499.0        saab        9-3               13492            7  \n",
       "10    16000.0  16499.0         bmw       123i               13723            7  \n",
       "11    17500.0  17999.0    mercedes        220               15860            7  \n",
       "12    40000.0  44999.0       volvo        945               15870            7  \n",
       "13    19500.0  19999.0       volvo        s60               16282            7  \n",
       "14    20500.0  20999.0  wolkswagen  touran2.0               17477            7  \n",
       "15    28000.0  28499.0       volvo        745               17484            7  \n",
       "16    15000.0  15499.0     peugeot       3008               17517            7  \n",
       "17    24000.0  24499.0        saab       aero               19279            7  \n",
       "18    18500.0  18999.0        golf          v               19574            7  \n",
       "19    40000.0  44999.0        saab        9-5               20222            7  \n",
       "20    26000.0  26499.0         bmw        316               20265            7  \n",
       "21    35000.0  39999.0       volvo       v70|               20267            7  \n",
       "22    20500.0  20999.0        saab        9-5               20278            7  \n",
       "23    10000.0  10499.0          ww       golf               20291            7  \n",
       "24    20000.0  20499.0     riktigt        fin               20362            7  \n",
       "25    30000.0  34999.0       volvo       xc70               21601            7  \n",
       "26    11500.0  11999.0      passat    variant               21804            7  \n",
       "27    25500.0  25999.0       volvo       xc70               22791            7  \n",
       "28    17500.0  17999.0     peugeot        206               24374            7  \n",
       "29    21500.0  21999.0        ford      focus               24866            7  \n",
       "...       ...      ...         ...        ...                 ...          ...  \n",
       "2540   7000.0   7499.0      toyota      auris             5323018            2  \n",
       "2541   7500.0   7999.0       dodge        ram             5326302            2  \n",
       "2542  20000.0  20499.0       volvo        v50             5326938            2  \n",
       "2543  17500.0  17999.0       honda     accord             5327330            2  \n",
       "2544  29500.0  29999.0       volvo          v             5334336            2  \n",
       "2545  12000.0  12499.0     peugeot     expert             5366904            1  \n",
       "2546  19000.0  19499.0      toyota    avensis             5369150            1  \n",
       "2547  12500.0  12999.0       dacia    lastbil             5369630            1  \n",
       "2548  19000.0  19499.0     lincoln  navigator             5369788            1  \n",
       "2549  29500.0  29999.0       volvo         xc             5372692            1  \n",
       "2550  19000.0  19499.0     peugeot        2.0             5373462            1  \n",
       "2551  19000.0  19499.0      pedant      skött             5375220            1  \n",
       "2552  30000.0  34999.0        opel      astra             5377557            1  \n",
       "2553  22000.0  22499.0  mitsubishi    grandis             5380703            1  \n",
       "2554  11000.0  11499.0    trans-am      targa             5382575            1  \n",
       "2555  27000.0  27499.0        audi         a4             5383208            1  \n",
       "2556  13000.0  13499.0        audi         a4             5383611            1  \n",
       "2557  22500.0  22999.0        ford      focus             5387247            1  \n",
       "2558  35000.0  39999.0     peugeot        407             5388639            1  \n",
       "2559  23000.0  23499.0      vwgolf        1|6             5394978            1  \n",
       "2560  23000.0  23499.0        saab        9-3             5396106            1  \n",
       "2561  15500.0  15999.0         kia    bykanto             5398650            1  \n",
       "2562  17500.0  17999.0     peugeot      307cc             5400496            1  \n",
       "2563  21000.0  21499.0        ford      focus             5400834            1  \n",
       "2564  12000.0  12499.0      toyota      auris             5401453            1  \n",
       "2565  20500.0  20999.0       honda     accord             5402858            1  \n",
       "2566  30000.0  34999.0       volvo        v40             5408126            1  \n",
       "2567  19000.0  19499.0  mitsubishi    grandis             5409024            1  \n",
       "2568  23000.0  23499.0     peugeot        307             5412727            1  \n",
       "2569  24000.0  24499.0          c5    automat             5417909            1  \n",
       "\n",
       "[2570 rows x 13 columns]"
      ]
     },
     "execution_count": 119,
     "metadata": {},
     "output_type": "execute_result"
    }
   ],
   "source": [
    "pandas_df"
   ]
  },
  {
   "cell_type": "code",
   "execution_count": 120,
   "metadata": {},
   "outputs": [
    {
     "name": "stdout",
     "output_type": "stream",
     "text": [
      "+-------------------+-----+\n",
      "|               fuel|count|\n",
      "+-------------------+-----+\n",
      "|             Bensin| 1570|\n",
      "|             Diesel|  936|\n",
      "|Miljöbränsle/Hybrid|   56|\n",
      "|                 El|    8|\n",
      "+-------------------+-----+\n",
      "\n"
     ]
    }
   ],
   "source": [
    "df.groupBy(\"fuel\").count().show()"
   ]
  },
  {
   "cell_type": "code",
   "execution_count": 121,
   "metadata": {},
   "outputs": [
    {
     "name": "stdout",
     "output_type": "stream",
     "text": [
      "+-------+-----+\n",
      "|   gear|count|\n",
      "+-------+-----+\n",
      "|Manuell| 1633|\n",
      "|Automat|  937|\n",
      "+-------+-----+\n",
      "\n"
     ]
    }
   ],
   "source": [
    "df.groupBy(\"gear\").count().show()"
   ]
  },
  {
   "cell_type": "code",
   "execution_count": 122,
   "metadata": {},
   "outputs": [
    {
     "name": "stdout",
     "output_type": "stream",
     "text": [
      "+------------+-----+\n",
      "|    location|count|\n",
      "+------------+-----+\n",
      "|     Klippan|   44|\n",
      "|        Lund|  125|\n",
      "|       Lomma|   36|\n",
      "|  Hässleholm|  146|\n",
      "|      Sydost|   55|\n",
      "|      Skurup|   43|\n",
      "|   Tomelilla|   32|\n",
      "|     Svedala|   41|\n",
      "|    Kävlinge|   48|\n",
      "|Kristianstad|  207|\n",
      "|Östra Göinge|   28|\n",
      "|       Hörby|   28|\n",
      "|      Båstad|   22|\n",
      "|      Burlöv|   35|\n",
      "|    Perstorp|   13|\n",
      "|  Trelleborg|  106|\n",
      "|       Sjöbo|   36|\n",
      "|     Höganäs|   33|\n",
      "|    Bromölla|   21|\n",
      "|  Landskrona|   88|\n",
      "+------------+-----+\n",
      "only showing top 20 rows\n",
      "\n"
     ]
    }
   ],
   "source": [
    "df.groupBy(\"location\").count().show()"
   ]
  },
  {
   "cell_type": "markdown",
   "metadata": {},
   "source": [
    "End of session Feb 02, 2019."
   ]
  }
 ],
 "metadata": {
  "kernelspec": {
   "display_name": "Python 3",
   "language": "python",
   "name": "python3"
  },
  "language_info": {
   "codemirror_mode": {
    "name": "ipython",
    "version": 3
   },
   "file_extension": ".py",
   "mimetype": "text/x-python",
   "name": "python",
   "nbconvert_exporter": "python",
   "pygments_lexer": "ipython3",
   "version": "3.6.3"
  }
 },
 "nbformat": 4,
 "nbformat_minor": 2
}
