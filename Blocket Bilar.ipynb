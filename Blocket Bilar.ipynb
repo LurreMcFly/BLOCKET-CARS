{
 "cells": [
  {
   "cell_type": "markdown",
   "metadata": {},
   "source": [
    "## Blocket car data\n",
    "\n",
    "### Jonas Lundgren  \n",
    "### Last Updated: Jan 26, 2019\n",
    "\n",
    "---  \n",
    "\n",
    "### Sources \n",
    "\n",
    "https://www.youtube.com/watch?v=XQgXKtPSzUI&t=0s&index=2&list=LLgrRgAlce_d0J02aHPrp4nA\n",
    "\n",
    "University of California, Santa Barbara: PSTAT 135/235, winter quarter 2019\n",
    "\n",
    "### Explanation\n",
    "- Part 1: Webscraping of cars for sale in Skåne, Sweden from private sellers. Scraping is done from Swedish buy and sell site https://www.blocket.se/ using BeautifulSoup.\n",
    "- Part 2: Data preprocessing done using pySpark since I wanted to practice and was not necessary for a data set containing about 2500 rows (scraping done on Jan 26 2019). Visualizations are done using pandas and matplotlib.\n",
    "\n",
    "#### Note: \n",
    "Formating of the webpage where the scraping was done could change if this is read at a later time.\n",
    "\n",
    "---  "
   ]
  },
  {
   "cell_type": "markdown",
   "metadata": {},
   "source": [
    "### Part 1\n",
    "Loading packages used for webscraping."
   ]
  },
  {
   "cell_type": "code",
   "execution_count": 1,
   "metadata": {},
   "outputs": [],
   "source": [
    "import requests\n",
    "from bs4 import BeautifulSoup"
   ]
  },
  {
   "cell_type": "markdown",
   "metadata": {},
   "source": [
    "Url to the site where scraping will be done."
   ]
  },
  {
   "cell_type": "code",
   "execution_count": 2,
   "metadata": {},
   "outputs": [],
   "source": [
    "my_url = 'https://www.blocket.se/malmo/bilar?ca=23_11&cg=1020&st=s&l=0&f=p&w=1'\n",
    "client = requests.get(my_url).text"
   ]
  },
  {
   "cell_type": "code",
   "execution_count": 3,
   "metadata": {},
   "outputs": [],
   "source": [
    "soup = BeautifulSoup(client, \"html.parser\")"
   ]
  },
  {
   "cell_type": "markdown",
   "metadata": {},
   "source": [
    "The path in the html file we are interested in."
   ]
  },
  {
   "cell_type": "code",
   "execution_count": 4,
   "metadata": {},
   "outputs": [],
   "source": [
    "cars = soup.find_all('div', {'id': 'item_list'})[0].find_all('article')"
   ]
  },
  {
   "cell_type": "markdown",
   "metadata": {},
   "source": [
    "Testing to scrape data from the second car on blocket to see if everything is ok"
   ]
  },
  {
   "cell_type": "code",
   "execution_count": 5,
   "metadata": {},
   "outputs": [],
   "source": [
    "info = cars[1]\n",
    "location = info.div.div.text\n",
    "date = info.div.time.get('datetime')\n",
    "title = info.div.find('a', {'class': 'item_link'}).text.replace(',', '|')\n",
    "\n",
    "splited_info = info.div.p.text.split(' | ')\n",
    "\n",
    "fuel = splited_info[0]\n",
    "gear = splited_info[1]\n",
    "dist = splited_info[2]\n",
    "price = info.div.find('p', {'class' : 'list_price font-large'}).text\n",
    "\n"
   ]
  },
  {
   "cell_type": "markdown",
   "metadata": {},
   "source": [
    "Testing to loop over all cars on the first page of cars in the wanted region. If the # signs are removed a file called \"blocket_cars.csv\" is stored containing the cars at the first page."
   ]
  },
  {
   "cell_type": "code",
   "execution_count": 6,
   "metadata": {},
   "outputs": [],
   "source": [
    "filename = \"blocket_cars.csv\"\n",
    "#f = open(filename, \"w\")\n",
    "headers = \"date, title, dist, price, fuel, gear, location\\n\"\n",
    "#f.write(headers)\n",
    "\n",
    "for car in cars:\n",
    "    info = car\n",
    "   \n",
    "    date = info.div.time.get('datetime')\n",
    "    title = info.div.find('a', {'class': 'item_link'}).text.replace(',', '|')\n",
    "\n",
    "    splited_info = info.div.p.text.split(' | ')\n",
    "\n",
    "    fuel = splited_info[0]\n",
    "    gear = splited_info[1]\n",
    "    dist = splited_info[2]\n",
    "    price = info.div.find('p', {'class' : 'list_price font-large'}).text\n",
    "    location = info.div.div.text\n",
    "\n",
    "    #f.write(date + \",\" + title + \",\" + dist + \",\" + price + \",\" + fuel + \",\" + gear + \",\" + location + \"\\n\")\n",
    "    \n",
    "#f.close()"
   ]
  },
  {
   "cell_type": "markdown",
   "metadata": {},
   "source": [
    "Here a file called \"blocket_cars.csv\" is created containing all cars in Skåne not from resellers is stored. The while loop loops over all pages on blocket with the search results we are interested in. At current time it was 52 pages. For every page we loop over the number of cars and store the data we are interseted in: date, title, dist, price, fuel, gear, location. The page number is printed to see how far the scraping process has passed. "
   ]
  },
  {
   "cell_type": "code",
   "execution_count": 7,
   "metadata": {},
   "outputs": [
    {
     "name": "stdout",
     "output_type": "stream",
     "text": [
      "Page number: 1\n",
      "Page number: 2\n",
      "Page number: 3\n",
      "Page number: 4\n",
      "Page number: 5\n",
      "Page number: 6\n",
      "Page number: 7\n",
      "Page number: 8\n",
      "Page number: 9\n",
      "Page number: 10\n",
      "Page number: 11\n",
      "Page number: 12\n",
      "Page number: 13\n",
      "Page number: 14\n",
      "Page number: 15\n",
      "Page number: 16\n",
      "Page number: 17\n",
      "Page number: 18\n",
      "Page number: 19\n",
      "Page number: 20\n",
      "Page number: 21\n",
      "Page number: 22\n",
      "Page number: 23\n",
      "Page number: 24\n",
      "Page number: 25\n",
      "Page number: 26\n",
      "Page number: 27\n",
      "Page number: 28\n",
      "Page number: 29\n",
      "Page number: 30\n",
      "Page number: 31\n",
      "Page number: 32\n",
      "Page number: 33\n",
      "Page number: 34\n",
      "Page number: 35\n",
      "Page number: 36\n",
      "Page number: 37\n",
      "Page number: 38\n",
      "Page number: 39\n",
      "Page number: 40\n",
      "Page number: 41\n",
      "Page number: 42\n",
      "Page number: 43\n",
      "Page number: 44\n",
      "Page number: 45\n",
      "Page number: 46\n",
      "Page number: 47\n",
      "Page number: 48\n",
      "Page number: 49\n",
      "Page number: 50\n",
      "Page number: 51\n"
     ]
    }
   ],
   "source": [
    "filename = \"blocket_cars.csv\"\n",
    "f = open(filename, \"w\")\n",
    "headers = \"date, title, dist, price, fuel, gear, location\\n\"\n",
    "f.write(headers)\n",
    "stop = 'NA'\n",
    "i = 1\n",
    "\n",
    "while(stop != 'Inga träffar i Bilar'):\n",
    "    \n",
    "    my_url = 'https://www.blocket.se/malmo/bilar?ca=23_11&cg=1020&st=s&l=0&f=p&w=1&o=' + str(i)\n",
    "\n",
    "    client = requests.get(my_url).text\n",
    "\n",
    "    soup = BeautifulSoup(client, \"html.parser\")\n",
    "    \n",
    "    try:\n",
    "        stop = soup.find_all('div', {'class': 'ads_not_found col-xs-12'})[0].h3.text\n",
    "    except:\n",
    "        print('Page number: ' + str(i))\n",
    "    \n",
    "    cars = soup.find_all('div', {'id': 'item_list'})[0].find_all('article')\n",
    "    \n",
    "    for car in cars:\n",
    "        info = car\n",
    "        \n",
    "        if(info.div.p.text == ''):\n",
    "            break\n",
    "        \n",
    "        date = info.div.time.get('datetime')\n",
    "        title = info.div.find('a', {'class': 'item_link'}).text.replace(',', '|')\n",
    "\n",
    "        splited_info = info.div.p.text.split(' | ')\n",
    "        \n",
    "        fuel = splited_info[0]\n",
    "        gear = splited_info[1]\n",
    "        dist = splited_info[2]\n",
    "        price = info.div.find('p', {'class' : 'list_price font-large'}).text\n",
    "        location = info.div.div.text\n",
    "\n",
    "        f.write(date + \",\" + title + \",\" + dist + \",\" + price + \",\" + fuel + \",\" + gear + \",\" + location + \"\\n\")\n",
    "    \n",
    "    i = i+1\n",
    "    \n",
    "f.close()"
   ]
  },
  {
   "cell_type": "markdown",
   "metadata": {},
   "source": [
    "### Part 2\n",
    "\n",
    "SparkSession is imported aswell as other spark packages"
   ]
  },
  {
   "cell_type": "code",
   "execution_count": 8,
   "metadata": {},
   "outputs": [],
   "source": [
    "from pyspark.sql import SparkSession\n",
    "import pyspark.sql.types as typ\n",
    "from pyspark.sql.functions import *\n",
    "import pandas\n",
    "\n",
    "spark = SparkSession \\\n",
    "    .builder \\\n",
    "    .master(\"local\") \\\n",
    "    .appName(\"review_and_category_analytics\") \\\n",
    "    .config(\"spark.executor.memory\", '8g') \\\n",
    "    .config('spark.executor.cores', '4') \\\n",
    "    .config('spark.cores.max', '4') \\\n",
    "    .config(\"spark.driver.memory\",'8g') \\\n",
    "    .getOrCreate()\n",
    "\n",
    "sc = spark.sparkContext"
   ]
  },
  {
   "cell_type": "markdown",
   "metadata": {},
   "source": [
    "The data is read into a data frame called df."
   ]
  },
  {
   "cell_type": "code",
   "execution_count": 9,
   "metadata": {},
   "outputs": [],
   "source": [
    "df = spark.read.format(\"csv\")\\\n",
    "    .option(\"header\", \"true\")\\\n",
    "    .option(\"ignoreLeadingWhiteSpace\",'true')\\\n",
    "    .load(\"blocket_cars.csv\")"
   ]
  },
  {
   "cell_type": "markdown",
   "metadata": {},
   "source": [
    "The data frame df is saved."
   ]
  },
  {
   "cell_type": "code",
   "execution_count": 10,
   "metadata": {},
   "outputs": [
    {
     "data": {
      "text/plain": [
       "DataFrame[date: string, title: string, dist: string, price: string, fuel: string, gear: string, location: string]"
      ]
     },
     "execution_count": 10,
     "metadata": {},
     "output_type": "execute_result"
    }
   ],
   "source": [
    "df.cache()"
   ]
  },
  {
   "cell_type": "markdown",
   "metadata": {},
   "source": [
    "First 5 rows are displayed"
   ]
  },
  {
   "cell_type": "code",
   "execution_count": 11,
   "metadata": {},
   "outputs": [
    {
     "name": "stdout",
     "output_type": "stream",
     "text": [
      "+-------------------+--------------------+-------------------+----------+-------------------+-------+--------------+\n",
      "|               date|               title|               dist|     price|               fuel|   gear|      location|\n",
      "+-------------------+--------------------+-------------------+----------+-------------------+-------+--------------+\n",
      "|2019-01-26 23:16:46|VW Jetta 1|6 mult...|  3 500 - 3 999 mil| 88 000 kr|Miljöbränsle/Hybrid|Manuell|Centralt Söder|\n",
      "|2019-01-26 23:11:44|  Opel Astra 2.0 -11|17 500 - 17 999 mil| 47 000 kr|             Diesel|Automat|Centralt Söder|\n",
      "|2019-01-26 23:11:19|Toyota Auris Hybr...|  7 500 - 7 999 mil|149 900 kr|Miljöbränsle/Hybrid|Automat|   Helsingborg|\n",
      "|2019-01-26 23:09:21|Kia Sportage 1.7 ...|15 000 - 15 499 mil| 82 900 kr|             Diesel|Manuell|    Landskrona|\n",
      "|2019-01-26 23:09:14|Toyota Avensis Ve...|19 500 - 19 999 mil| 34 900 kr|             Bensin|Manuell| Centralt Norr|\n",
      "+-------------------+--------------------+-------------------+----------+-------------------+-------+--------------+\n",
      "only showing top 5 rows\n",
      "\n"
     ]
    }
   ],
   "source": [
    "df.show(5)"
   ]
  },
  {
   "cell_type": "code",
   "execution_count": 12,
   "metadata": {},
   "outputs": [
    {
     "data": {
      "text/plain": [
       "['date', 'title', 'dist', 'price', 'fuel', 'gear', 'location']"
      ]
     },
     "execution_count": 12,
     "metadata": {},
     "output_type": "execute_result"
    }
   ],
   "source": [
    "df.columns"
   ]
  },
  {
   "cell_type": "code",
   "execution_count": 13,
   "metadata": {},
   "outputs": [
    {
     "name": "stdout",
     "output_type": "stream",
     "text": [
      "root\n",
      " |-- date: string (nullable = true)\n",
      " |-- title: string (nullable = true)\n",
      " |-- dist: string (nullable = true)\n",
      " |-- price: string (nullable = true)\n",
      " |-- fuel: string (nullable = true)\n",
      " |-- gear: string (nullable = true)\n",
      " |-- location: string (nullable = true)\n",
      "\n"
     ]
    }
   ],
   "source": [
    "df.printSchema()"
   ]
  },
  {
   "cell_type": "markdown",
   "metadata": {},
   "source": [
    "Lower casing all caps in the the title."
   ]
  },
  {
   "cell_type": "code",
   "execution_count": 14,
   "metadata": {},
   "outputs": [],
   "source": [
    "df = df.withColumn('title', lower(df.title))"
   ]
  },
  {
   "cell_type": "markdown",
   "metadata": {},
   "source": [
    "Removing the currency sign kr and the space in the price."
   ]
  },
  {
   "cell_type": "code",
   "execution_count": 15,
   "metadata": {},
   "outputs": [],
   "source": [
    "df = df\\\n",
    "        .withColumn('price', regexp_replace('price', ' kr', ''))\\\n",
    "        .withColumn('price', regexp_replace('price', ' ', ''))"
   ]
  },
  {
   "cell_type": "markdown",
   "metadata": {},
   "source": [
    "Convering the price to int."
   ]
  },
  {
   "cell_type": "code",
   "execution_count": 16,
   "metadata": {},
   "outputs": [],
   "source": [
    "df = df.withColumn('price', df['price'].cast(\"int\"))"
   ]
  },
  {
   "cell_type": "markdown",
   "metadata": {},
   "source": [
    "Checking the results"
   ]
  },
  {
   "cell_type": "code",
   "execution_count": 17,
   "metadata": {},
   "outputs": [
    {
     "name": "stdout",
     "output_type": "stream",
     "text": [
      "+-------------------+--------------------+-------------------+------+-------------------+-------+--------------+\n",
      "|               date|               title|               dist| price|               fuel|   gear|      location|\n",
      "+-------------------+--------------------+-------------------+------+-------------------+-------+--------------+\n",
      "|2019-01-26 23:16:46|vw jetta 1|6 mult...|  3 500 - 3 999 mil| 88000|Miljöbränsle/Hybrid|Manuell|Centralt Söder|\n",
      "|2019-01-26 23:11:44|  opel astra 2.0 -11|17 500 - 17 999 mil| 47000|             Diesel|Automat|Centralt Söder|\n",
      "|2019-01-26 23:11:19|toyota auris hybr...|  7 500 - 7 999 mil|149900|Miljöbränsle/Hybrid|Automat|   Helsingborg|\n",
      "|2019-01-26 23:09:21|kia sportage 1.7 ...|15 000 - 15 499 mil| 82900|             Diesel|Manuell|    Landskrona|\n",
      "|2019-01-26 23:09:14|toyota avensis ve...|19 500 - 19 999 mil| 34900|             Bensin|Manuell| Centralt Norr|\n",
      "+-------------------+--------------------+-------------------+------+-------------------+-------+--------------+\n",
      "only showing top 5 rows\n",
      "\n"
     ]
    }
   ],
   "source": [
    "df.show(5)"
   ]
  },
  {
   "cell_type": "markdown",
   "metadata": {},
   "source": [
    "Removing mil from the distance the car has traveled."
   ]
  },
  {
   "cell_type": "code",
   "execution_count": 18,
   "metadata": {},
   "outputs": [],
   "source": [
    "df = df.withColumn('dist', regexp_replace('dist', ' mil', ''))"
   ]
  },
  {
   "cell_type": "markdown",
   "metadata": {},
   "source": [
    "Creating a split in the distance the car has traveled."
   ]
  },
  {
   "cell_type": "code",
   "execution_count": 19,
   "metadata": {},
   "outputs": [],
   "source": [
    "split_col = split(df['dist'], ' - ')"
   ]
  },
  {
   "cell_type": "markdown",
   "metadata": {},
   "source": [
    "Creating 2 columns with distance range."
   ]
  },
  {
   "cell_type": "code",
   "execution_count": 20,
   "metadata": {},
   "outputs": [],
   "source": [
    "df = df.withColumn('from', split_col.getItem(0))\n",
    "df = df.withColumn('to', split_col.getItem(1))"
   ]
  },
  {
   "cell_type": "markdown",
   "metadata": {},
   "source": [
    "Converingt the distance to ints."
   ]
  },
  {
   "cell_type": "code",
   "execution_count": 21,
   "metadata": {},
   "outputs": [],
   "source": [
    "df = df.withColumn('from', regexp_replace('from', ' ', ''))\n",
    "df = df.withColumn('from', df['from'].cast(\"int\"))\n",
    "\n",
    "df = df.withColumn('to', regexp_replace('to', ' ', ''))\n",
    "df = df.withColumn('to', df['to'].cast(\"int\"))"
   ]
  },
  {
   "cell_type": "code",
   "execution_count": 22,
   "metadata": {},
   "outputs": [
    {
     "name": "stdout",
     "output_type": "stream",
     "text": [
      "+-------------------+--------------------+---------------+------+-------------------+-------+--------------+-----+-----+\n",
      "|               date|               title|           dist| price|               fuel|   gear|      location| from|   to|\n",
      "+-------------------+--------------------+---------------+------+-------------------+-------+--------------+-----+-----+\n",
      "|2019-01-26 23:16:46|vw jetta 1|6 mult...|  3 500 - 3 999| 88000|Miljöbränsle/Hybrid|Manuell|Centralt Söder| 3500| 3999|\n",
      "|2019-01-26 23:11:44|  opel astra 2.0 -11|17 500 - 17 999| 47000|             Diesel|Automat|Centralt Söder|17500|17999|\n",
      "|2019-01-26 23:11:19|toyota auris hybr...|  7 500 - 7 999|149900|Miljöbränsle/Hybrid|Automat|   Helsingborg| 7500| 7999|\n",
      "|2019-01-26 23:09:21|kia sportage 1.7 ...|15 000 - 15 499| 82900|             Diesel|Manuell|    Landskrona|15000|15499|\n",
      "|2019-01-26 23:09:14|toyota avensis ve...|19 500 - 19 999| 34900|             Bensin|Manuell| Centralt Norr|19500|19999|\n",
      "+-------------------+--------------------+---------------+------+-------------------+-------+--------------+-----+-----+\n",
      "only showing top 5 rows\n",
      "\n"
     ]
    }
   ],
   "source": [
    "df.show(5)"
   ]
  },
  {
   "cell_type": "markdown",
   "metadata": {},
   "source": [
    "Splitting the title to get the brand and model of car. The split is done in a sloppy way and there are several cars where the title was not on form: brand model ... This problem is ignored for now."
   ]
  },
  {
   "cell_type": "code",
   "execution_count": 23,
   "metadata": {},
   "outputs": [],
   "source": [
    "split_col = split(df['title'], ' ')"
   ]
  },
  {
   "cell_type": "code",
   "execution_count": 24,
   "metadata": {},
   "outputs": [],
   "source": [
    "df = df.withColumn('brand', split_col.getItem(0))\n",
    "df = df.withColumn('model', split_col.getItem(1))"
   ]
  },
  {
   "cell_type": "code",
   "execution_count": 25,
   "metadata": {},
   "outputs": [
    {
     "name": "stdout",
     "output_type": "stream",
     "text": [
      "+-------------------+--------------------+---------------+------+-------------------+-------+--------------+-----+-----+------+--------+\n",
      "|               date|               title|           dist| price|               fuel|   gear|      location| from|   to| brand|   model|\n",
      "+-------------------+--------------------+---------------+------+-------------------+-------+--------------+-----+-----+------+--------+\n",
      "|2019-01-26 23:16:46|vw jetta 1|6 mult...|  3 500 - 3 999| 88000|Miljöbränsle/Hybrid|Manuell|Centralt Söder| 3500| 3999|    vw|   jetta|\n",
      "|2019-01-26 23:11:44|  opel astra 2.0 -11|17 500 - 17 999| 47000|             Diesel|Automat|Centralt Söder|17500|17999|  opel|   astra|\n",
      "|2019-01-26 23:11:19|toyota auris hybr...|  7 500 - 7 999|149900|Miljöbränsle/Hybrid|Automat|   Helsingborg| 7500| 7999|toyota|   auris|\n",
      "|2019-01-26 23:09:21|kia sportage 1.7 ...|15 000 - 15 499| 82900|             Diesel|Manuell|    Landskrona|15000|15499|   kia|sportage|\n",
      "|2019-01-26 23:09:14|toyota avensis ve...|19 500 - 19 999| 34900|             Bensin|Manuell| Centralt Norr|19500|19999|toyota| avensis|\n",
      "+-------------------+--------------------+---------------+------+-------------------+-------+--------------+-----+-----+------+--------+\n",
      "only showing top 5 rows\n",
      "\n"
     ]
    }
   ],
   "source": [
    "df.show(5)"
   ]
  },
  {
   "cell_type": "markdown",
   "metadata": {},
   "source": [
    "A new data frame called volvo is created with only the cars of the brand Volvo."
   ]
  },
  {
   "cell_type": "code",
   "execution_count": 26,
   "metadata": {},
   "outputs": [
    {
     "name": "stdout",
     "output_type": "stream",
     "text": [
      "+-------------------+--------------------+---------------+------+------+-------+--------------+-----+-----+-----+-----+\n",
      "|               date|               title|           dist| price|  fuel|   gear|      location| from|   to|brand|model|\n",
      "+-------------------+--------------------+---------------+------+------+-------+--------------+-----+-----+-----+-----+\n",
      "|2019-01-26 22:50:20|volvo s60 2|5t 04...|30 000 - 34 999| 18000|Bensin|Manuell|    Hässleholm|30000|34999|volvo|  s60|\n",
      "|2019-01-26 20:19:22|volvo xc70 d5 aut...|30 000 - 34 999| 70000|Diesel|Automat|  Kristianstad|30000|34999|volvo| xc70|\n",
      "|2019-01-26 19:39:27|volvo v70 bes & s...|27 000 - 27 499| 16500|Bensin|Manuell|          Bjuv|27000|27499|volvo|  v70|\n",
      "|2019-01-26 19:11:45|volvo v60 d5 busi...|15 500 - 15 999|139000|Diesel|Manuell|Centralt Söder|15500|15999|volvo|  v60|\n",
      "|2019-01-26 18:49:52|       volvo v70 -02|17 000 - 17 499| 18000|Bensin|Automat| Centralt Norr|17000|17499|volvo|  v70|\n",
      "|2019-01-26 18:39:05|volvo s60 2.5t se...|17 500 - 17 999| 37500|Bensin|Automat|        Sydost|17500|17999|volvo|  s60|\n",
      "|2019-01-26 18:34:01|volvo v70 1|6d 10...|12 500 - 12 999| 89900|Diesel|Manuell|   Helsingborg|12500|12999|volvo|  v70|\n",
      "|2019-01-26 16:44:04|       volvo v70 -00|30 000 - 34 999| 11900|Bensin|Manuell|    Hässleholm|30000|34999|volvo|  v70|\n",
      "|2019-01-26 15:58:51|    volvo v70 d5 -09|23 000 - 23 499| 75000|Diesel|Automat|     Ängelholm|23000|23499|volvo|  v70|\n",
      "|2019-01-26 15:58:40|volvo v70 2.4d mo...|30 000 - 34 999| 59900|Diesel|Manuell|         Hörby|30000|34999|volvo|  v70|\n",
      "+-------------------+--------------------+---------------+------+------+-------+--------------+-----+-----+-----+-----+\n",
      "only showing top 10 rows\n",
      "\n"
     ]
    }
   ],
   "source": [
    "volvo = df.filter(df.brand == 'volvo')\n",
    "volvo.show(10)"
   ]
  },
  {
   "cell_type": "markdown",
   "metadata": {},
   "source": [
    "The volvo data frame is converted into a pandas data frame."
   ]
  },
  {
   "cell_type": "code",
   "execution_count": 27,
   "metadata": {},
   "outputs": [],
   "source": [
    "volvo_pandas = volvo.toPandas()"
   ]
  },
  {
   "cell_type": "markdown",
   "metadata": {},
   "source": [
    "A new column is added with the name model_num where each model is asigned a number used for coloring of plot."
   ]
  },
  {
   "cell_type": "code",
   "execution_count": 28,
   "metadata": {},
   "outputs": [],
   "source": [
    "volvo_pandas['model_num'] = pandas.factorize(volvo_pandas['model'])[0]"
   ]
  },
  {
   "cell_type": "code",
   "execution_count": 29,
   "metadata": {},
   "outputs": [
    {
     "data": {
      "text/html": [
       "<div>\n",
       "<style scoped>\n",
       "    .dataframe tbody tr th:only-of-type {\n",
       "        vertical-align: middle;\n",
       "    }\n",
       "\n",
       "    .dataframe tbody tr th {\n",
       "        vertical-align: top;\n",
       "    }\n",
       "\n",
       "    .dataframe thead th {\n",
       "        text-align: right;\n",
       "    }\n",
       "</style>\n",
       "<table border=\"1\" class=\"dataframe\">\n",
       "  <thead>\n",
       "    <tr style=\"text-align: right;\">\n",
       "      <th></th>\n",
       "      <th>date</th>\n",
       "      <th>title</th>\n",
       "      <th>dist</th>\n",
       "      <th>price</th>\n",
       "      <th>fuel</th>\n",
       "      <th>gear</th>\n",
       "      <th>location</th>\n",
       "      <th>from</th>\n",
       "      <th>to</th>\n",
       "      <th>brand</th>\n",
       "      <th>model</th>\n",
       "      <th>model_num</th>\n",
       "    </tr>\n",
       "  </thead>\n",
       "  <tbody>\n",
       "    <tr>\n",
       "      <th>0</th>\n",
       "      <td>2019-01-26 22:50:20</td>\n",
       "      <td>volvo s60 2|5t 04 -04</td>\n",
       "      <td>30 000 - 34 999</td>\n",
       "      <td>18000.0</td>\n",
       "      <td>Bensin</td>\n",
       "      <td>Manuell</td>\n",
       "      <td>Hässleholm</td>\n",
       "      <td>30000.0</td>\n",
       "      <td>34999.0</td>\n",
       "      <td>volvo</td>\n",
       "      <td>s60</td>\n",
       "      <td>0</td>\n",
       "    </tr>\n",
       "    <tr>\n",
       "      <th>1</th>\n",
       "      <td>2019-01-26 20:19:22</td>\n",
       "      <td>volvo xc70 d5 automat -08</td>\n",
       "      <td>30 000 - 34 999</td>\n",
       "      <td>70000.0</td>\n",
       "      <td>Diesel</td>\n",
       "      <td>Automat</td>\n",
       "      <td>Kristianstad</td>\n",
       "      <td>30000.0</td>\n",
       "      <td>34999.0</td>\n",
       "      <td>volvo</td>\n",
       "      <td>xc70</td>\n",
       "      <td>1</td>\n",
       "    </tr>\n",
       "    <tr>\n",
       "      <th>2</th>\n",
       "      <td>2019-01-26 19:39:27</td>\n",
       "      <td>volvo v70 bes &amp; skattad -01</td>\n",
       "      <td>27 000 - 27 499</td>\n",
       "      <td>16500.0</td>\n",
       "      <td>Bensin</td>\n",
       "      <td>Manuell</td>\n",
       "      <td>Bjuv</td>\n",
       "      <td>27000.0</td>\n",
       "      <td>27499.0</td>\n",
       "      <td>volvo</td>\n",
       "      <td>v70</td>\n",
       "      <td>2</td>\n",
       "    </tr>\n",
       "    <tr>\n",
       "      <th>3</th>\n",
       "      <td>2019-01-26 19:11:45</td>\n",
       "      <td>volvo v60 d5 business edition manuell -14</td>\n",
       "      <td>15 500 - 15 999</td>\n",
       "      <td>139000.0</td>\n",
       "      <td>Diesel</td>\n",
       "      <td>Manuell</td>\n",
       "      <td>Centralt Söder</td>\n",
       "      <td>15500.0</td>\n",
       "      <td>15999.0</td>\n",
       "      <td>volvo</td>\n",
       "      <td>v60</td>\n",
       "      <td>3</td>\n",
       "    </tr>\n",
       "    <tr>\n",
       "      <th>4</th>\n",
       "      <td>2019-01-26 18:49:52</td>\n",
       "      <td>volvo v70 -02</td>\n",
       "      <td>17 000 - 17 499</td>\n",
       "      <td>18000.0</td>\n",
       "      <td>Bensin</td>\n",
       "      <td>Automat</td>\n",
       "      <td>Centralt Norr</td>\n",
       "      <td>17000.0</td>\n",
       "      <td>17499.0</td>\n",
       "      <td>volvo</td>\n",
       "      <td>v70</td>\n",
       "      <td>2</td>\n",
       "    </tr>\n",
       "  </tbody>\n",
       "</table>\n",
       "</div>"
      ],
      "text/plain": [
       "                  date                                      title  \\\n",
       "0  2019-01-26 22:50:20                      volvo s60 2|5t 04 -04   \n",
       "1  2019-01-26 20:19:22                  volvo xc70 d5 automat -08   \n",
       "2  2019-01-26 19:39:27                volvo v70 bes & skattad -01   \n",
       "3  2019-01-26 19:11:45  volvo v60 d5 business edition manuell -14   \n",
       "4  2019-01-26 18:49:52                              volvo v70 -02   \n",
       "\n",
       "              dist     price    fuel     gear        location     from  \\\n",
       "0  30 000 - 34 999   18000.0  Bensin  Manuell      Hässleholm  30000.0   \n",
       "1  30 000 - 34 999   70000.0  Diesel  Automat    Kristianstad  30000.0   \n",
       "2  27 000 - 27 499   16500.0  Bensin  Manuell            Bjuv  27000.0   \n",
       "3  15 500 - 15 999  139000.0  Diesel  Manuell  Centralt Söder  15500.0   \n",
       "4  17 000 - 17 499   18000.0  Bensin  Automat   Centralt Norr  17000.0   \n",
       "\n",
       "        to  brand model  model_num  \n",
       "0  34999.0  volvo   s60          0  \n",
       "1  34999.0  volvo  xc70          1  \n",
       "2  27499.0  volvo   v70          2  \n",
       "3  15999.0  volvo   v60          3  \n",
       "4  17499.0  volvo   v70          2  "
      ]
     },
     "execution_count": 29,
     "metadata": {},
     "output_type": "execute_result"
    }
   ],
   "source": [
    "volvo_pandas.head(5)"
   ]
  },
  {
   "cell_type": "markdown",
   "metadata": {},
   "source": [
    "Librarys for polting is imported."
   ]
  },
  {
   "cell_type": "code",
   "execution_count": 30,
   "metadata": {},
   "outputs": [],
   "source": [
    "import matplotlib.pyplot as plt\n",
    "import numpy as np\n",
    "from numpy.polynomial.polynomial import polyfit"
   ]
  },
  {
   "cell_type": "markdown",
   "metadata": {},
   "source": [
    "A plot of all Volvo cars in the data set are displayed colored based on brand."
   ]
  },
  {
   "cell_type": "code",
   "execution_count": 31,
   "metadata": {},
   "outputs": [
    {
     "data": {
      "image/png": "[encoded data removed]",
      "text/plain": [
       "<Figure size 432x288 with 1 Axes>"
      ]
     },
     "metadata": {
      "needs_background": "light"
     },
     "output_type": "display_data"
    }
   ],
   "source": [
    "fig, ax = plt.subplots()\n",
    "scatter = ax.scatter(x = 'from', y = 'price', c = 'model_num', data = volvo_pandas, cmap = 'viridis')\n",
    "plt.xlabel('Antal mil')\n",
    "plt.ylabel('Pris sek')\n",
    "plt.title('Alla privatsålda Volvo på blocket 26/1/19')\n",
    "plt.show()"
   ]
  },
  {
   "cell_type": "markdown",
   "metadata": {},
   "source": [
    "A data frame subset containing only the model v70 is stored as v70."
   ]
  },
  {
   "cell_type": "code",
   "execution_count": 32,
   "metadata": {},
   "outputs": [],
   "source": [
    "v70 = volvo_pandas[volvo_pandas.model == 'v70']"
   ]
  },
  {
   "cell_type": "markdown",
   "metadata": {},
   "source": [
    "Removing cars without price and the distance traveled from the data set."
   ]
  },
  {
   "cell_type": "code",
   "execution_count": 33,
   "metadata": {},
   "outputs": [],
   "source": [
    "v70 = v70[v70['from'].notnull()]\n",
    "v70 = v70[v70['price'].notnull()]"
   ]
  },
  {
   "cell_type": "markdown",
   "metadata": {},
   "source": [
    "A regression line is derived."
   ]
  },
  {
   "cell_type": "code",
   "execution_count": 34,
   "metadata": {},
   "outputs": [],
   "source": [
    "b, m = polyfit(v70['from'], v70['price'], 1)"
   ]
  },
  {
   "cell_type": "markdown",
   "metadata": {},
   "source": [
    "A plot of all Volvo v70 cars in the data set are displayed with a regression "
   ]
  },
  {
   "cell_type": "code",
   "execution_count": 35,
   "metadata": {},
   "outputs": [
    {
     "data": {
      "image/png": "[encoded data removed]",
      "text/plain": [
       "<Figure size 432x288 with 1 Axes>"
      ]
     },
     "metadata": {
      "needs_background": "light"
     },
     "output_type": "display_data"
    }
   ],
   "source": [
    "fig, ax = plt.subplots()\n",
    "plt.scatter = ax.scatter(x = 'from', y = 'price', data = v70)\n",
    "plt.plot(v70['from'], b + m * v70['from'], '-', c = 'r')\n",
    "plt.xlabel('Antal mil')\n",
    "plt.ylabel('Pris sek')\n",
    "plt.title('Alla privatsålda Volvo V70 på blocket 26/1/19')\n",
    "plt.show()"
   ]
  }
 ],
 "metadata": {
  "kernelspec": {
   "display_name": "Python 3",
   "language": "python",
   "name": "python3"
  },
  "language_info": {
   "codemirror_mode": {
    "name": "ipython",
    "version": 3
   },
   "file_extension": ".py",
   "mimetype": "text/x-python",
   "name": "python",
   "nbconvert_exporter": "python",
   "pygments_lexer": "ipython3",
   "version": "3.6.3"
  }
 },
 "nbformat": 4,
 "nbformat_minor": 2
}
